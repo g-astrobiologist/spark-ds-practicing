{
 "cells": [
  {
   "cell_type": "code",
   "execution_count": 3,
   "id": "17db4539",
   "metadata": {},
   "outputs": [
    {
     "name": "stdout",
     "output_type": "stream",
     "text": [
      "Loaded file: /tmp/Log_Reg_dataset.csv (exists=True)\n",
      "+---------+---+--------------+--------+----------------+------+\n",
      "|  Country|Age|Repeat_Visitor|Platform|Web_pages_viewed|Status|\n",
      "+---------+---+--------------+--------+----------------+------+\n",
      "|    India| 41|             1|   Yahoo|              21|     1|\n",
      "|   Brazil| 28|             1|   Yahoo|               5|     0|\n",
      "|   Brazil| 40|             0|  Google|               3|     0|\n",
      "|Indonesia| 31|             1|    Bing|              15|     1|\n",
      "| Malaysia| 32|             0|  Google|              15|     1|\n",
      "+---------+---+--------------+--------+----------------+------+\n",
      "only showing top 5 rows\n"
     ]
    }
   ],
   "source": [
    "from pyspark.sql import SparkSession\n",
    "import os\n",
    "import tempfile\n",
    "import urllib.request\n",
    "\n",
    "# Create Spark session\n",
    "spark = SparkSession.builder \\\n",
    "    .master(\"local[*]\") \\\n",
    "    .appName(\"log-reg\") \\\n",
    "    .getOrCreate()\n",
    "\n",
    "# Correct raw GitHub URL and safe local path (no leading slash in filename)\n",
    "url = \"https://raw.githubusercontent.com/Apress/machine-learning-with-pyspark/master/chapter_5_Logistic_Regression/Log_Reg_dataset.csv\"\n",
    "local_path = os.path.join(tempfile.gettempdir(), \"Log_Reg_dataset.csv\")\n",
    "\n",
    "# Download dataset (overwrites if already present)\n",
    "urllib.request.urlretrieve(url, local_path)\n",
    "\n",
    "# Read with Spark\n",
    "df = spark.read.csv(local_path, header=True, inferSchema=True)\n",
    "\n",
    "# Quick sanity check\n",
    "print(f\"Loaded file: {local_path} (exists={os.path.exists(local_path)})\")\n",
    "df.show(5)"
   ]
  },
  {
   "cell_type": "markdown",
   "id": "b6a23bb7",
   "metadata": {},
   "source": [
    "# Exploratory analysis"
   ]
  },
  {
   "cell_type": "code",
   "execution_count": 4,
   "id": "782af18e",
   "metadata": {},
   "outputs": [
    {
     "data": {
      "text/plain": [
       "(20000,\n",
       " 6,\n",
       " ['Country',\n",
       "  'Age',\n",
       "  'Repeat_Visitor',\n",
       "  'Platform',\n",
       "  'Web_pages_viewed',\n",
       "  'Status'])"
      ]
     },
     "execution_count": 4,
     "metadata": {},
     "output_type": "execute_result"
    }
   ],
   "source": [
    "df.count(), len(df.columns), df.columns"
   ]
  },
  {
   "cell_type": "code",
   "execution_count": 5,
   "id": "bdc4cd5d",
   "metadata": {},
   "outputs": [
    {
     "name": "stdout",
     "output_type": "stream",
     "text": [
      "root\n",
      " |-- Country: string (nullable = true)\n",
      " |-- Age: integer (nullable = true)\n",
      " |-- Repeat_Visitor: integer (nullable = true)\n",
      " |-- Platform: string (nullable = true)\n",
      " |-- Web_pages_viewed: integer (nullable = true)\n",
      " |-- Status: integer (nullable = true)\n",
      "\n"
     ]
    }
   ],
   "source": [
    "df.printSchema()"
   ]
  },
  {
   "cell_type": "code",
   "execution_count": 7,
   "id": "c3cbc048",
   "metadata": {},
   "outputs": [
    {
     "name": "stdout",
     "output_type": "stream",
     "text": [
      "+-------+--------+-----------------+-----------------+--------+-----------------+------------------+\n",
      "|summary| Country|              Age|   Repeat_Visitor|Platform| Web_pages_viewed|            Status|\n",
      "+-------+--------+-----------------+-----------------+--------+-----------------+------------------+\n",
      "|  count|   20000|            20000|            20000|   20000|            20000|             20000|\n",
      "|   mean|    NULL|         28.53955|           0.5029|    NULL|           9.5533|               0.5|\n",
      "| stddev|    NULL|7.888912950773227|0.500004090187782|    NULL|6.073903499824976|0.5000125004687693|\n",
      "|    min|  Brazil|               17|                0|    Bing|                1|                 0|\n",
      "|    max|Malaysia|              111|                1|   Yahoo|               29|                 1|\n",
      "+-------+--------+-----------------+-----------------+--------+-----------------+------------------+\n",
      "\n"
     ]
    }
   ],
   "source": [
    "df.describe().show()"
   ]
  },
  {
   "cell_type": "code",
   "execution_count": 8,
   "id": "23f329cc",
   "metadata": {},
   "outputs": [
    {
     "name": "stdout",
     "output_type": "stream",
     "text": [
      "+---------+-----+\n",
      "|  Country|count|\n",
      "+---------+-----+\n",
      "| Malaysia| 1218|\n",
      "|    India| 4018|\n",
      "|Indonesia|12178|\n",
      "|   Brazil| 2586|\n",
      "+---------+-----+\n",
      "\n"
     ]
    }
   ],
   "source": [
    "df.groupBy(\"Country\").count().show()"
   ]
  },
  {
   "cell_type": "code",
   "execution_count": 11,
   "id": "db1db5ae",
   "metadata": {},
   "outputs": [
    {
     "name": "stdout",
     "output_type": "stream",
     "text": [
      "+--------+-----+\n",
      "|Platform|count|\n",
      "+--------+-----+\n",
      "|   Yahoo| 9859|\n",
      "|    Bing| 4360|\n",
      "|  Google| 5781|\n",
      "+--------+-----+\n",
      "\n"
     ]
    }
   ],
   "source": [
    "df.groupBy(\"Platform\").count().show()"
   ]
  },
  {
   "cell_type": "code",
   "execution_count": 12,
   "id": "35c0c32c",
   "metadata": {},
   "outputs": [
    {
     "name": "stdout",
     "output_type": "stream",
     "text": [
      "+------+-----+\n",
      "|Status|count|\n",
      "+------+-----+\n",
      "|     1|10000|\n",
      "|     0|10000|\n",
      "+------+-----+\n",
      "\n"
     ]
    }
   ],
   "source": [
    "df.groupBy(\"Status\").count().show()"
   ]
  },
  {
   "cell_type": "code",
   "execution_count": 13,
   "id": "d90c8c91",
   "metadata": {},
   "outputs": [
    {
     "name": "stdout",
     "output_type": "stream",
     "text": [
      "+---------+------------------+-------------------+---------------------+--------------------+\n",
      "|  Country|          avg(Age)|avg(Repeat_Visitor)|avg(Web_pages_viewed)|         avg(Status)|\n",
      "+---------+------------------+-------------------+---------------------+--------------------+\n",
      "| Malaysia|27.792282430213465| 0.5730706075533661|   11.192118226600986|  0.6568144499178982|\n",
      "|    India|27.976854156296664| 0.5433051269288203|   10.727227476356397|  0.6212045793927327|\n",
      "|Indonesia| 28.43159796354081| 0.5207751683363442|    9.985711939563148|  0.5422893742814913|\n",
      "|   Brazil|30.274168600154677|  0.322892498066512|    4.921113689095128|0.038669760247486466|\n",
      "+---------+------------------+-------------------+---------------------+--------------------+\n",
      "\n"
     ]
    }
   ],
   "source": [
    "df.groupBy('Country').mean().show()"
   ]
  },
  {
   "cell_type": "code",
   "execution_count": 14,
   "id": "890139c4",
   "metadata": {},
   "outputs": [
    {
     "name": "stdout",
     "output_type": "stream",
     "text": [
      "+------+--------+-------------------+---------------------+-----------+\n",
      "|Status|avg(Age)|avg(Repeat_Visitor)|avg(Web_pages_viewed)|avg(Status)|\n",
      "+------+--------+-------------------+---------------------+-----------+\n",
      "|     1| 26.5435|             0.7019|              14.5617|        1.0|\n",
      "|     0| 30.5356|             0.3039|               4.5449|        0.0|\n",
      "+------+--------+-------------------+---------------------+-----------+\n",
      "\n"
     ]
    }
   ],
   "source": [
    "df.groupBy('Status').mean().show()"
   ]
  },
  {
   "cell_type": "markdown",
   "id": "635f876b",
   "metadata": {},
   "source": [
    "# Feature engineering"
   ]
  },
  {
   "cell_type": "code",
   "execution_count": 16,
   "id": "48efa187",
   "metadata": {},
   "outputs": [],
   "source": [
    "from pyspark.ml.feature import StringIndexer, OneHotEncoder, VectorAssembler"
   ]
  },
  {
   "cell_type": "code",
   "execution_count": 18,
   "id": "622204cd",
   "metadata": {},
   "outputs": [
    {
     "name": "stdout",
     "output_type": "stream",
     "text": [
      "+---------+---+--------------+--------+----------------+------+-----------------+\n",
      "|  Country|Age|Repeat_Visitor|Platform|Web_pages_viewed|Status|Search_Engine_Num|\n",
      "+---------+---+--------------+--------+----------------+------+-----------------+\n",
      "|    India| 41|             1|   Yahoo|              21|     1|              0.0|\n",
      "|   Brazil| 28|             1|   Yahoo|               5|     0|              0.0|\n",
      "|   Brazil| 40|             0|  Google|               3|     0|              1.0|\n",
      "|Indonesia| 31|             1|    Bing|              15|     1|              2.0|\n",
      "| Malaysia| 32|             0|  Google|              15|     1|              1.0|\n",
      "+---------+---+--------------+--------+----------------+------+-----------------+\n",
      "only showing top 5 rows\n"
     ]
    }
   ],
   "source": [
    "search_engine_indexer = StringIndexer(inputCol=\"Platform\", outputCol=\"Search_Engine_Num\").fit(df)\n",
    "df = search_engine_indexer.transform(df)\n",
    "df.show(5)"
   ]
  },
  {
   "cell_type": "code",
   "execution_count": 19,
   "id": "d7ec5ec6",
   "metadata": {},
   "outputs": [
    {
     "name": "stdout",
     "output_type": "stream",
     "text": [
      "+--------+-----+\n",
      "|Platform|count|\n",
      "+--------+-----+\n",
      "|   Yahoo| 9859|\n",
      "|  Google| 5781|\n",
      "|    Bing| 4360|\n",
      "+--------+-----+\n",
      "\n"
     ]
    }
   ],
   "source": [
    "df.groupBy('Platform').count().orderBy('count', ascending=False).show(5)"
   ]
  },
  {
   "cell_type": "code",
   "execution_count": 20,
   "id": "90e9e871",
   "metadata": {},
   "outputs": [
    {
     "name": "stdout",
     "output_type": "stream",
     "text": [
      "+-----------------+-----+\n",
      "|Search_Engine_Num|count|\n",
      "+-----------------+-----+\n",
      "|              0.0| 9859|\n",
      "|              1.0| 5781|\n",
      "|              2.0| 4360|\n",
      "+-----------------+-----+\n",
      "\n"
     ]
    }
   ],
   "source": [
    "df.groupBy('Search_Engine_Num').count().orderBy('count', ascending=False).show(5)"
   ]
  },
  {
   "cell_type": "code",
   "execution_count": 22,
   "id": "dbbae535",
   "metadata": {},
   "outputs": [
    {
     "name": "stdout",
     "output_type": "stream",
     "text": [
      "+---------+---+--------------+--------+----------------+------+-----------------+--------------------+\n",
      "|  Country|Age|Repeat_Visitor|Platform|Web_pages_viewed|Status|Search_Engine_Num|Search_Engine_Vector|\n",
      "+---------+---+--------------+--------+----------------+------+-----------------+--------------------+\n",
      "|    India| 41|             1|   Yahoo|              21|     1|              0.0|       (2,[0],[1.0])|\n",
      "|   Brazil| 28|             1|   Yahoo|               5|     0|              0.0|       (2,[0],[1.0])|\n",
      "|   Brazil| 40|             0|  Google|               3|     0|              1.0|       (2,[1],[1.0])|\n",
      "|Indonesia| 31|             1|    Bing|              15|     1|              2.0|           (2,[],[])|\n",
      "| Malaysia| 32|             0|  Google|              15|     1|              1.0|       (2,[1],[1.0])|\n",
      "+---------+---+--------------+--------+----------------+------+-----------------+--------------------+\n",
      "only showing top 5 rows\n"
     ]
    }
   ],
   "source": [
    "search_engine_encoder = OneHotEncoder(inputCol=\"Search_Engine_Num\", outputCol=\"Search_Engine_Vector\")\n",
    "\n",
    "df = search_engine_encoder.fit(df).transform(df)\n",
    "\n",
    "df.show(5)"
   ]
  },
  {
   "cell_type": "code",
   "execution_count": 23,
   "id": "aa4b9ee7",
   "metadata": {},
   "outputs": [
    {
     "name": "stdout",
     "output_type": "stream",
     "text": [
      "+--------------------+-----+\n",
      "|Search_Engine_Vector|count|\n",
      "+--------------------+-----+\n",
      "|       (2,[0],[1.0])| 9859|\n",
      "|       (2,[1],[1.0])| 5781|\n",
      "|           (2,[],[])| 4360|\n",
      "+--------------------+-----+\n",
      "\n"
     ]
    }
   ],
   "source": [
    "df.groupBy('Search_Engine_Vector').count().orderBy('count', ascending=False).show(5)"
   ]
  },
  {
   "cell_type": "code",
   "execution_count": 24,
   "id": "9bf3f4a7",
   "metadata": {},
   "outputs": [
    {
     "name": "stdout",
     "output_type": "stream",
     "text": [
      "+-----------+-----+\n",
      "|Country_Num|count|\n",
      "+-----------+-----+\n",
      "|        0.0|12178|\n",
      "|        1.0| 4018|\n",
      "|        2.0| 2586|\n",
      "|        3.0| 1218|\n",
      "+-----------+-----+\n",
      "\n"
     ]
    }
   ],
   "source": [
    "country_indexer = StringIndexer(inputCol=\"Country\", outputCol=\"Country_Num\").fit(df)\n",
    "df = country_indexer.transform(df)\n",
    "df.groupBy('Country_Num').count().orderBy('count', ascending=False).show(5)"
   ]
  },
  {
   "cell_type": "code",
   "execution_count": 25,
   "id": "c7b0acba",
   "metadata": {},
   "outputs": [
    {
     "name": "stdout",
     "output_type": "stream",
     "text": [
      "+---------+-----------+--------------+\n",
      "|  Country|Country_Num|Country_Vector|\n",
      "+---------+-----------+--------------+\n",
      "|    India|        1.0| (3,[1],[1.0])|\n",
      "|   Brazil|        2.0| (3,[2],[1.0])|\n",
      "|   Brazil|        2.0| (3,[2],[1.0])|\n",
      "|Indonesia|        0.0| (3,[0],[1.0])|\n",
      "| Malaysia|        3.0|     (3,[],[])|\n",
      "+---------+-----------+--------------+\n",
      "only showing top 5 rows\n"
     ]
    }
   ],
   "source": [
    "country_encoder = OneHotEncoder(inputCol=\"Country_Num\", outputCol=\"Country_Vector\")\n",
    "df = country_encoder.fit(df).transform(df)\n",
    "df.select([\"Country\", \"Country_Num\", \"Country_Vector\"]).show(5)"
   ]
  },
  {
   "cell_type": "code",
   "execution_count": 26,
   "id": "2208f530",
   "metadata": {},
   "outputs": [
    {
     "name": "stdout",
     "output_type": "stream",
     "text": [
      "root\n",
      " |-- Country: string (nullable = true)\n",
      " |-- Age: integer (nullable = true)\n",
      " |-- Repeat_Visitor: integer (nullable = true)\n",
      " |-- Platform: string (nullable = true)\n",
      " |-- Web_pages_viewed: integer (nullable = true)\n",
      " |-- Status: integer (nullable = true)\n",
      " |-- Search_Engine_Num: double (nullable = false)\n",
      " |-- Search_Engine_Vector: vector (nullable = true)\n",
      " |-- Country_Num: double (nullable = false)\n",
      " |-- Country_Vector: vector (nullable = true)\n",
      " |-- features: vector (nullable = true)\n",
      "\n"
     ]
    }
   ],
   "source": [
    "df_assembler = VectorAssembler(\n",
    "    inputCols=[\"Search_Engine_Vector\", \"Country_Vector\",\n",
    "               \"Age\", \"Repeat_Visitor\", \"Web_pages_viewed\"],\n",
    "    outputCol=\"features\")\n",
    "df = df_assembler.transform(df)\n",
    "\n",
    "df.printSchema()"
   ]
  },
  {
   "cell_type": "code",
   "execution_count": 29,
   "id": "d8494cd4",
   "metadata": {},
   "outputs": [
    {
     "name": "stdout",
     "output_type": "stream",
     "text": [
      "+-----------------------------------+------+\n",
      "|features                           |Status|\n",
      "+-----------------------------------+------+\n",
      "|[1.0,0.0,0.0,1.0,0.0,41.0,1.0,21.0]|1     |\n",
      "|[1.0,0.0,0.0,0.0,1.0,28.0,1.0,5.0] |0     |\n",
      "|(8,[1,4,5,7],[1.0,1.0,40.0,3.0])   |0     |\n",
      "|(8,[2,5,6,7],[1.0,31.0,1.0,15.0])  |1     |\n",
      "|(8,[1,5,7],[1.0,32.0,15.0])        |1     |\n",
      "|(8,[1,4,5,7],[1.0,1.0,32.0,3.0])   |0     |\n",
      "|(8,[1,4,5,7],[1.0,1.0,32.0,6.0])   |0     |\n",
      "|(8,[1,2,5,7],[1.0,1.0,27.0,9.0])   |0     |\n",
      "|(8,[0,2,5,7],[1.0,1.0,32.0,2.0])   |0     |\n",
      "|(8,[2,5,6,7],[1.0,31.0,1.0,16.0])  |1     |\n",
      "+-----------------------------------+------+\n",
      "only showing top 10 rows\n"
     ]
    }
   ],
   "source": [
    "df.select([\"features\", \"Status\"]).show(10, truncate=False)"
   ]
  },
  {
   "cell_type": "code",
   "execution_count": 30,
   "id": "46f7631d",
   "metadata": {},
   "outputs": [],
   "source": [
    "model_data = df.select([\"features\", \"Status\"])"
   ]
  },
  {
   "cell_type": "markdown",
   "id": "bafae131",
   "metadata": {},
   "source": [
    "# Splitting the data into training and test sets"
   ]
  },
  {
   "cell_type": "code",
   "execution_count": 32,
   "id": "337e0ad1",
   "metadata": {},
   "outputs": [
    {
     "data": {
      "text/plain": [
       "(15021, 4979)"
      ]
     },
     "execution_count": 32,
     "metadata": {},
     "output_type": "execute_result"
    }
   ],
   "source": [
    "training_df, test_df = model_data.randomSplit([0.75, 0.25], seed=42)\n",
    "training_df.count(), test_df.count()"
   ]
  },
  {
   "cell_type": "code",
   "execution_count": 34,
   "id": "54d1f099",
   "metadata": {},
   "outputs": [
    {
     "name": "stdout",
     "output_type": "stream",
     "text": [
      "+------+-----+\n",
      "|Status|count|\n",
      "+------+-----+\n",
      "|     1| 7562|\n",
      "|     0| 7459|\n",
      "+------+-----+\n",
      "\n",
      "+------+-----+\n",
      "|Status|count|\n",
      "+------+-----+\n",
      "|     1| 2438|\n",
      "|     0| 2541|\n",
      "+------+-----+\n",
      "\n"
     ]
    }
   ],
   "source": [
    "training_df.groupBy('Status').count().show()\n",
    "test_df.groupBy('Status').count().show()"
   ]
  },
  {
   "cell_type": "markdown",
   "id": "16a61dd7",
   "metadata": {},
   "source": [
    "# Building and Training Logistic Regresion Model"
   ]
  },
  {
   "cell_type": "code",
   "execution_count": 35,
   "id": "8b6893ad",
   "metadata": {},
   "outputs": [],
   "source": [
    "from pyspark.ml.classification import LogisticRegression\n",
    "\n",
    "log_reg = LogisticRegression(labelCol=\"Status\").fit(training_df)"
   ]
  },
  {
   "cell_type": "code",
   "execution_count": 36,
   "id": "340039dc",
   "metadata": {},
   "outputs": [],
   "source": [
    "train_results = log_reg.evaluate(training_df).predictions"
   ]
  },
  {
   "cell_type": "code",
   "execution_count": 37,
   "id": "0533daea",
   "metadata": {},
   "outputs": [
    {
     "name": "stdout",
     "output_type": "stream",
     "text": [
      "+------+----------+----------------------------------------+\n",
      "|Status|prediction|probability                             |\n",
      "+------+----------+----------------------------------------+\n",
      "|1     |1.0       |[0.29225242902572685,0.7077475709742731]|\n",
      "|1     |1.0       |[0.16202960483917334,0.8379703951608266]|\n",
      "|1     |1.0       |[0.16202960483917334,0.8379703951608266]|\n",
      "|1     |1.0       |[0.16202960483917334,0.8379703951608266]|\n",
      "|1     |1.0       |[0.0830250462205416,0.9169749537794584] |\n",
      "+------+----------+----------------------------------------+\n",
      "only showing top 5 rows\n"
     ]
    }
   ],
   "source": [
    "train_results.filter(train_results[\"Status\"] == 1).filter(train_results['prediction'] == 1).select(['Status', 'prediction','probability']).show(5, truncate=False)"
   ]
  },
  {
   "cell_type": "code",
   "execution_count": 38,
   "id": "cd8eaa96",
   "metadata": {},
   "outputs": [
    {
     "name": "stdout",
     "output_type": "stream",
     "text": [
      "root\n",
      " |-- features: vector (nullable = true)\n",
      " |-- Status: integer (nullable = true)\n",
      " |-- rawPrediction: vector (nullable = true)\n",
      " |-- probability: vector (nullable = true)\n",
      " |-- prediction: double (nullable = false)\n",
      "\n"
     ]
    }
   ],
   "source": [
    "test_results = log_reg.evaluate(test_df).predictions\n",
    "\n",
    "test_results.printSchema()"
   ]
  },
  {
   "cell_type": "code",
   "execution_count": 49,
   "id": "8c680827",
   "metadata": {},
   "outputs": [
    {
     "name": "stdout",
     "output_type": "stream",
     "text": [
      "+--------------------------------+------+--------------------------------------+------------------------------------------+----------+\n",
      "|features                        |Status|rawPrediction                         |probability                               |prediction|\n",
      "+--------------------------------+------+--------------------------------------+------------------------------------------+----------+\n",
      "|(8,[0,2,5,7],[1.0,1.0,17.0,1.0])|0     |[5.944137565233802,-5.944137565233802]|[0.9973856905733685,0.0026143094266315448]|0.0       |\n",
      "|(8,[0,2,5,7],[1.0,1.0,17.0,1.0])|0     |[5.944137565233802,-5.944137565233802]|[0.9973856905733685,0.0026143094266315448]|0.0       |\n",
      "|(8,[0,2,5,7],[1.0,1.0,17.0,2.0])|0     |[5.185403437967377,-5.185403437967377]|[0.9944334817320457,0.00556651826795429]  |0.0       |\n",
      "|(8,[0,2,5,7],[1.0,1.0,17.0,2.0])|0     |[5.185403437967377,-5.185403437967377]|[0.9944334817320457,0.00556651826795429]  |0.0       |\n",
      "|(8,[0,2,5,7],[1.0,1.0,17.0,2.0])|0     |[5.185403437967377,-5.185403437967377]|[0.9944334817320457,0.00556651826795429]  |0.0       |\n",
      "+--------------------------------+------+--------------------------------------+------------------------------------------+----------+\n",
      "only showing top 5 rows\n"
     ]
    }
   ],
   "source": [
    "test_results.show(5, truncate=False)"
   ]
  },
  {
   "cell_type": "markdown",
   "id": "16de36d5",
   "metadata": {},
   "source": [
    "# Evaluation of the Model"
   ]
  },
  {
   "cell_type": "code",
   "execution_count": 40,
   "id": "d824c5ba",
   "metadata": {},
   "outputs": [],
   "source": [
    "tp = test_results.filter(test_results[\"Status\"] == 1).filter(test_results['prediction'] == 1).count()\n",
    "tn = test_results.filter(test_results[\"Status\"] == 0).filter(test_results['prediction'] == 0).count()\n",
    "fp = test_results.filter(test_results[\"Status\"] == 0).filter(test_results['prediction'] == 1).count()\n",
    "fn = test_results.filter(test_results[\"Status\"] == 1).filter(test_results['prediction'] == 0).count()"
   ]
  },
  {
   "cell_type": "code",
   "execution_count": 42,
   "id": "1064da77",
   "metadata": {},
   "outputs": [
    {
     "data": {
      "text/plain": [
       "0.9353283791926089"
      ]
     },
     "execution_count": 42,
     "metadata": {},
     "output_type": "execute_result"
    }
   ],
   "source": [
    "accuracy = (tp + tn) / (tp + tn + fp + fn)\n",
    "accuracy"
   ]
  },
  {
   "cell_type": "code",
   "execution_count": 43,
   "id": "bc033353",
   "metadata": {},
   "outputs": [
    {
     "data": {
      "text/plain": [
       "0.9397046759639048"
      ]
     },
     "execution_count": 43,
     "metadata": {},
     "output_type": "execute_result"
    }
   ],
   "source": [
    "recall = tp / (tp + fn)\n",
    "recall"
   ]
  },
  {
   "cell_type": "code",
   "execution_count": 44,
   "id": "ef7de191",
   "metadata": {},
   "outputs": [
    {
     "data": {
      "text/plain": [
       "0.9290348742903487"
      ]
     },
     "execution_count": 44,
     "metadata": {},
     "output_type": "execute_result"
    }
   ],
   "source": [
    "precision = tp / (tp + fp)\n",
    "precision"
   ]
  },
  {
   "cell_type": "code",
   "execution_count": 45,
   "id": "b0b29c0d",
   "metadata": {},
   "outputs": [
    {
     "data": {
      "text/plain": [
       "<Axes: >"
      ]
     },
     "execution_count": 45,
     "metadata": {},
     "output_type": "execute_result"
    },
    {
     "data": {
      "image/png": "[encoded data removed]",
      "text/plain": [
       "<Figure size 640x480 with 2 Axes>"
      ]
     },
     "metadata": {},
     "output_type": "display_data"
    }
   ],
   "source": [
    "import seaborn as sns\n",
    "cm = [[tn, fp],\n",
    "      [fn, tp]]\n",
    "\n",
    "sns.heatmap(cm, annot=True, fmt=\"d\", cmap=\"Blues\",\n",
    "            xticklabels=[\"Predicted Negative\", \"Predicted Positive\"],\n",
    "            yticklabels=[\"Actual Negative\", \"Actual Positive\"])"
   ]
  },
  {
   "cell_type": "code",
   "execution_count": 53,
   "id": "528fdb0f",
   "metadata": {},
   "outputs": [
    {
     "data": {
      "text/plain": [
       "0.9848660798023168"
      ]
     },
     "execution_count": 53,
     "metadata": {},
     "output_type": "execute_result"
    }
   ],
   "source": [
    "# ROC Curve and AUC\n",
    "from pyspark.ml.evaluation import BinaryClassificationEvaluator\n",
    "evaluator = BinaryClassificationEvaluator(labelCol=\"Status\", rawPredictionCol=\"rawPrediction\", metricName=\"areaUnderROC\")\n",
    "auc = evaluator.evaluate(test_results)\n",
    "auc"
   ]
  },
  {
   "cell_type": "code",
   "execution_count": 54,
   "id": "6877ecf6",
   "metadata": {},
   "outputs": [
    {
     "data": {
      "text/plain": [
       "0.9848660798023168"
      ]
     },
     "execution_count": 54,
     "metadata": {},
     "output_type": "execute_result"
    }
   ],
   "source": [
    "# ROC Curve and AUC\n",
    "from pyspark.ml.evaluation import BinaryClassificationEvaluator\n",
    "evaluator = BinaryClassificationEvaluator(labelCol=\"Status\")\n",
    "auc = evaluator.evaluate(test_results)\n",
    "auc"
   ]
  },
  {
   "cell_type": "code",
   "execution_count": 48,
   "id": "0244fea2",
   "metadata": {},
   "outputs": [
    {
     "data": {
      "image/png": "[encoded data removed]",
      "text/plain": [
       "<Figure size 800x600 with 1 Axes>"
      ]
     },
     "metadata": {},
     "output_type": "display_data"
    }
   ],
   "source": [
    "import pandas as pd\n",
    "from sklearn.metrics import roc_curve, auc\n",
    "\n",
    "import matplotlib.pyplot as plt\n",
    "\n",
    "# extract probability for the positive class and labels from the Spark DataFrame\n",
    "rows = test_results.select(\"probability\", \"Status\").rdd.map(lambda r: (float(r['probability'][1]), int(r['Status']))).collect()\n",
    "pdf = pd.DataFrame(rows, columns=[\"prob\", \"label\"])\n",
    "\n",
    "# compute ROC curve and AUC\n",
    "fpr, tpr, _ = roc_curve(pdf[\"label\"], pdf[\"prob\"])\n",
    "roc_auc = auc(fpr, tpr)\n",
    "\n",
    "# plot\n",
    "plt.figure(figsize=(8, 6))\n",
    "plt.plot(fpr, tpr, color=\"darkorange\", lw=2, label=f\"ROC curve (AUC = {roc_auc:.4f})\")\n",
    "plt.plot([0, 1], [0, 1], color=\"navy\", lw=2, linestyle=\"--\", label=\"Chance\")\n",
    "plt.xlim([0.0, 1.0])\n",
    "plt.ylim([0.0, 1.05])\n",
    "plt.xlabel(\"False Positive Rate\")\n",
    "plt.ylabel(\"True Positive Rate\")\n",
    "plt.title(\"ROC Curve - Logistic Regression\")\n",
    "plt.legend(loc=\"lower right\")\n",
    "plt.grid(True)\n",
    "plt.show()"
   ]
  },
  {
   "cell_type": "code",
   "execution_count": null,
   "id": "d7881cf0",
   "metadata": {},
   "outputs": [],
   "source": []
  }
 ],
 "metadata": {
  "kernelspec": {
   "display_name": "Python 3 (ipykernel)",
   "language": "python",
   "name": "python3"
  },
  "language_info": {
   "codemirror_mode": {
    "name": "ipython",
    "version": 3
   },
   "file_extension": ".py",
   "mimetype": "text/x-python",
   "name": "python",
   "nbconvert_exporter": "python",
   "pygments_lexer": "ipython3",
   "version": "3.13.7"
  }
 },
 "nbformat": 4,
 "nbformat_minor": 5
}
