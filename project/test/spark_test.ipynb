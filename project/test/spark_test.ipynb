{
 "cells": [
  {
   "cell_type": "markdown",
   "id": "8c4f6458",
   "metadata": {},
   "source": [
    "# Spark quick test\n",
    "This notebook runs quick checks inside the `quay.io/jupyter/pyspark-notebook` container: shows Python and pyspark versions, creates a SparkSession, builds a small DataFrame, shows it, and writes a CSV into the mounted `./docker_portal` folder so you can verify the host mount."
   ]
  },
  {
   "cell_type": "code",
   "execution_count": 1,
   "id": "67ae5dd1",
   "metadata": {},
   "outputs": [
    {
     "name": "stdout",
     "output_type": "stream",
     "text": [
      "Python:  3 . 1 3 . 7   |   p a c k a g e d   b y   c o n d a - f o r g e   |   ( m a i n ,   S e p     3   2 0 2 5 ,   1 4 : 3 0 : 3 5 )   [ G C C   1 4 . 3 . 0 ] \n",
      "PYTHONPATH= /usr/local/spark/python/lib/py4j-0.10.9.9-src.zip:/usr/local/spark/python:/app\n",
      "TZ= None\n",
      "Working dir: /home/jovyan\n",
      "Mounted project dir listing:\n",
      " - .env\n",
      " - .git\n",
      " - .gitignore\n",
      " - LICENSE\n",
      " - README.md\n",
      " - docker-compose.yml\n",
      " - docker_portal\n",
      " - project\n",
      " - spark_test.ipynb\n"
     ]
    }
   ],
   "source": [
    "# Basic environment info\n",
    "import sys, os\n",
    "print('Python:', sys.version.replace('', ' '))\n",
    "print('PYTHONPATH=', os.environ.get('PYTHONPATH'))\n",
    "print('TZ=', os.environ.get('TZ'))\n",
    "print('Working dir:', os.getcwd())\n",
    "# List mounted project directory\n",
    "print('Mounted project dir listing:')\n",
    "for p in sorted(os.listdir('/project'))[:50]:\n",
    "    print(' -', p)"
   ]
  },
  {
   "cell_type": "code",
   "execution_count": 2,
   "id": "383cbeb0",
   "metadata": {},
   "outputs": [
    {
     "name": "stdout",
     "output_type": "stream",
     "text": [
      "pyspark version: 4.0.1\n"
     ]
    }
   ],
   "source": [
    "# Check pyspark availability and version\n",
    "try:\n",
    "    import pyspark\n",
    "    from pyspark.sql import SparkSession\n",
    "    print('pyspark version:', pyspark.__version__)\n",
    "except Exception as e:\n",
    "    print('pyspark import failed:', e)"
   ]
  },
  {
   "cell_type": "code",
   "execution_count": 3,
   "id": "fa462a05",
   "metadata": {},
   "outputs": [
    {
     "name": "stdout",
     "output_type": "stream",
     "text": [
      "+---+---+\n",
      "| id|val|\n",
      "+---+---+\n",
      "|  1|  a|\n",
      "|  2|  b|\n",
      "|  3|  c|\n",
      "+---+---+\n",
      "\n",
      "Count = 3\n",
      "Wrote CSV to /project/docker_portal/spark_test_output\n"
     ]
    }
   ],
   "source": [
    "# Start a SparkSession and do a tiny DataFrame operation\n",
    "from pyspark.sql import SparkSession\n",
    "spark = SparkSession.builder.appName('test').getOrCreate()\n",
    "df = spark.createDataFrame([(1,'a'),(2,'b'),(3,'c')], schema=['id','val'])\n",
    "df.show()\n",
    "print('Count =', df.count())\n",
    "# write to mounted folder to verify host mount\n",
    "out_dir = '/project/docker_portal/spark_test_output'\n",
    "os.makedirs(out_dir, exist_ok=True)\n",
    "df.coalesce(1).write.mode('overwrite').option('header', True).csv(out_dir)\n",
    "print('Wrote CSV to', out_dir)"
   ]
  },
  {
   "cell_type": "code",
   "execution_count": 4,
   "id": "bd9e50b0",
   "metadata": {},
   "outputs": [
    {
     "name": "stdout",
     "output_type": "stream",
     "text": [
      "Contents of /home/jovyan/.local/share/jupyter/runtime : ['jpserver-7-open.html', 'jupyter_cookie_secret', 'jpserver-7.json', 'kernel-bdf80f13-57c3-4806-9ae1-e406b0810d22.json']\n",
      "Contents of /home/jovyan/.jupyter : ['jupyter_server_config.py']\n"
     ]
    }
   ],
   "source": [
    "# Print Jupyter runtime info (where token/logs live)\n",
    "# Notebook server writes runtime files under /home/jovyan/.local/share/jupyter/runtime or /home/jovyan/.jupyter\n",
    "for base in ['/home/jovyan/.local/share/jupyter/runtime', '/home/jovyan/.jupyter']:\n",
    "    if os.path.exists(base):\n",
    "        print('Contents of', base, ':', os.listdir(base))"
   ]
  }
 ],
 "metadata": {
  "kernelspec": {
   "display_name": "Python 3 (ipykernel)",
   "language": "python",
   "name": "python3"
  },
  "language_info": {
   "codemirror_mode": {
    "name": "ipython",
    "version": 3
   },
   "file_extension": ".py",
   "mimetype": "text/x-python",
   "name": "python",
   "nbconvert_exporter": "python",
   "pygments_lexer": "ipython3",
   "version": "3.13.7"
  }
 },
 "nbformat": 4,
 "nbformat_minor": 5
}
