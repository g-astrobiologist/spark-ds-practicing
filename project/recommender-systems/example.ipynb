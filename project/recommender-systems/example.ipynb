{
 "cells": [
  {
   "cell_type": "code",
   "execution_count": 1,
   "id": "f0bb65b1",
   "metadata": {},
   "outputs": [
    {
     "name": "stdout",
     "output_type": "stream",
     "text": [
      "Loaded file: /tmp/movie_ratings_df.csv (exists=True)\n",
      "+------+------------+------+\n",
      "|userId|       title|rating|\n",
      "+------+------------+------+\n",
      "|   196|Kolya (1996)|     3|\n",
      "|    63|Kolya (1996)|     3|\n",
      "|   226|Kolya (1996)|     5|\n",
      "|   154|Kolya (1996)|     3|\n",
      "|   306|Kolya (1996)|     5|\n",
      "+------+------------+------+\n",
      "only showing top 5 rows\n"
     ]
    }
   ],
   "source": [
    "from pyspark.sql import SparkSession\n",
    "import os\n",
    "import tempfile\n",
    "import urllib.request\n",
    "\n",
    "# Create Spark session\n",
    "spark = SparkSession.builder \\\n",
    "    .master(\"local[*]\") \\\n",
    "    .appName(\"recommender-system\") \\\n",
    "    .getOrCreate()\n",
    "\n",
    "# Correct raw GitHub URL and safe local path (no leading slash in filename)\n",
    "url = \"https://raw.githubusercontent.com/Apress/machine-learning-with-pyspark/master/chapter_8_Recommender_System/movie_ratings_df.csv\"\n",
    "local_path = os.path.join(tempfile.gettempdir(), \"movie_ratings_df.csv\")\n",
    "\n",
    "# Download dataset (overwrites if already present)\n",
    "urllib.request.urlretrieve(url, local_path)\n",
    "\n",
    "# Read with Spark\n",
    "df = spark.read.csv(local_path, header=True, inferSchema=True)\n",
    "\n",
    "# Quick sanity check\n",
    "print(f\"Loaded file: {local_path} (exists={os.path.exists(local_path)})\")\n",
    "df.show(5)"
   ]
  },
  {
   "cell_type": "code",
   "execution_count": 2,
   "id": "5486635c",
   "metadata": {},
   "outputs": [
    {
     "data": {
      "text/plain": [
       "(100000, ['userId', 'title', 'rating'])"
      ]
     },
     "execution_count": 2,
     "metadata": {},
     "output_type": "execute_result"
    }
   ],
   "source": [
    "df.count(), df.columns"
   ]
  },
  {
   "cell_type": "code",
   "execution_count": 3,
   "id": "e307c275",
   "metadata": {},
   "outputs": [
    {
     "name": "stdout",
     "output_type": "stream",
     "text": [
      "root\n",
      " |-- userId: integer (nullable = true)\n",
      " |-- title: string (nullable = true)\n",
      " |-- rating: integer (nullable = true)\n",
      "\n"
     ]
    }
   ],
   "source": [
    "df.printSchema()"
   ]
  },
  {
   "cell_type": "code",
   "execution_count": 4,
   "id": "6c569fec",
   "metadata": {},
   "outputs": [
    {
     "name": "stdout",
     "output_type": "stream",
     "text": [
      "+-------+------------------+--------------------+------------------+\n",
      "|summary|            userId|               title|            rating|\n",
      "+-------+------------------+--------------------+------------------+\n",
      "|  count|            100000|              100000|            100000|\n",
      "|   mean|         462.48475|                NULL|           3.52986|\n",
      "| stddev|266.61442012750865|                NULL|1.1256735991443156|\n",
      "|    min|                 1|'Til There Was Yo...|                 1|\n",
      "|    max|               943|� k�ldum klaka (C...|                 5|\n",
      "+-------+------------------+--------------------+------------------+\n",
      "\n"
     ]
    }
   ],
   "source": [
    "df.describe().show()"
   ]
  },
  {
   "cell_type": "markdown",
   "id": "018dce1f",
   "metadata": {},
   "source": [
    "# Exploratory analysis"
   ]
  },
  {
   "cell_type": "code",
   "execution_count": 5,
   "id": "54cef7d6",
   "metadata": {},
   "outputs": [
    {
     "name": "stdout",
     "output_type": "stream",
     "text": [
      "+------+---------------------------------+------+\n",
      "|userId|title                            |rating|\n",
      "+------+---------------------------------+------+\n",
      "|121   |Sense and Sensibility (1995)     |4     |\n",
      "|347   |Addams Family Values (1993)      |1     |\n",
      "|200   |Blade Runner (1982)              |5     |\n",
      "|297   |Dead Poets Society (1989)        |4     |\n",
      "|178   |E.T. the Extra-Terrestrial (1982)|4     |\n",
      "|189   |Jean de Florette (1986)          |5     |\n",
      "|561   |True Romance (1993)              |3     |\n",
      "|354   |FairyTale: A True Story (1997)   |4     |\n",
      "|562   |Piano, The (1993)                |4     |\n",
      "|286   |E.T. the Extra-Terrestrial (1982)|4     |\n",
      "+------+---------------------------------+------+\n",
      "\n"
     ]
    }
   ],
   "source": [
    "from pyspark.sql.functions import rand\n",
    "\n",
    "sample_size = 10  # change as needed\n",
    "sample_df = df.orderBy(rand()).limit(sample_size)\n",
    "sample_df.show(sample_size, truncate=False)"
   ]
  },
  {
   "cell_type": "code",
   "execution_count": 6,
   "id": "0b2c5de7",
   "metadata": {},
   "outputs": [
    {
     "name": "stdout",
     "output_type": "stream",
     "text": [
      "+------+-----+\n",
      "|userId|count|\n",
      "+------+-----+\n",
      "|405   |737  |\n",
      "|655   |685  |\n",
      "|13    |636  |\n",
      "|450   |540  |\n",
      "|276   |518  |\n",
      "|416   |493  |\n",
      "|537   |490  |\n",
      "|303   |484  |\n",
      "|234   |480  |\n",
      "|393   |448  |\n",
      "+------+-----+\n",
      "only showing top 10 rows\n"
     ]
    }
   ],
   "source": [
    "df.groupBy('userId').count().orderBy('count', ascending=False).show(10, False)"
   ]
  },
  {
   "cell_type": "code",
   "execution_count": 7,
   "id": "e0e5de44",
   "metadata": {},
   "outputs": [
    {
     "name": "stdout",
     "output_type": "stream",
     "text": [
      "+------+-----+\n",
      "|userId|count|\n",
      "+------+-----+\n",
      "|19    |20   |\n",
      "|143   |20   |\n",
      "|309   |20   |\n",
      "|34    |20   |\n",
      "|202   |20   |\n",
      "|732   |20   |\n",
      "|441   |20   |\n",
      "|685   |20   |\n",
      "|824   |20   |\n",
      "|631   |20   |\n",
      "+------+-----+\n",
      "only showing top 10 rows\n"
     ]
    }
   ],
   "source": [
    "df.groupBy('userId').count().orderBy('count', ascending=True).show(10, False)"
   ]
  },
  {
   "cell_type": "code",
   "execution_count": 8,
   "id": "33796557",
   "metadata": {},
   "outputs": [
    {
     "name": "stdout",
     "output_type": "stream",
     "text": [
      "+-----------------------------+-----+\n",
      "|title                        |count|\n",
      "+-----------------------------+-----+\n",
      "|Star Wars (1977)             |583  |\n",
      "|Contact (1997)               |509  |\n",
      "|Fargo (1996)                 |508  |\n",
      "|Return of the Jedi (1983)    |507  |\n",
      "|Liar Liar (1997)             |485  |\n",
      "|English Patient, The (1996)  |481  |\n",
      "|Scream (1996)                |478  |\n",
      "|Toy Story (1995)             |452  |\n",
      "|Air Force One (1997)         |431  |\n",
      "|Independence Day (ID4) (1996)|429  |\n",
      "+-----------------------------+-----+\n",
      "only showing top 10 rows\n"
     ]
    }
   ],
   "source": [
    "df.groupBy('title').count().orderBy('count', ascending=False).show(10, False)"
   ]
  },
  {
   "cell_type": "code",
   "execution_count": 9,
   "id": "e5fe4564",
   "metadata": {},
   "outputs": [],
   "source": [
    "# Feature Engineering"
   ]
  },
  {
   "cell_type": "code",
   "execution_count": 10,
   "id": "cbd6d566",
   "metadata": {},
   "outputs": [],
   "source": [
    "from pyspark.sql.functions import *\n",
    "from pyspark.ml.feature import StringIndexer, IndexToString"
   ]
  },
  {
   "cell_type": "code",
   "execution_count": 11,
   "id": "87a386f8",
   "metadata": {},
   "outputs": [
    {
     "name": "stdout",
     "output_type": "stream",
     "text": [
      "+------+------------+------+---------+\n",
      "|userId|       title|rating|title_new|\n",
      "+------+------------+------+---------+\n",
      "|   196|Kolya (1996)|     3|    287.0|\n",
      "|    63|Kolya (1996)|     3|    287.0|\n",
      "|   226|Kolya (1996)|     5|    287.0|\n",
      "|   154|Kolya (1996)|     3|    287.0|\n",
      "|   306|Kolya (1996)|     5|    287.0|\n",
      "+------+------------+------+---------+\n",
      "only showing top 5 rows\n"
     ]
    }
   ],
   "source": [
    "stringIndexer = StringIndexer(inputCol='title', outputCol='title_new')\n",
    "model = stringIndexer.fit(df)\n",
    "indexed = model.transform(df)\n",
    "indexed.show(5)"
   ]
  },
  {
   "cell_type": "code",
   "execution_count": 12,
   "id": "12ca265d",
   "metadata": {},
   "outputs": [
    {
     "name": "stdout",
     "output_type": "stream",
     "text": [
      "+---------+-----+\n",
      "|title_new|count|\n",
      "+---------+-----+\n",
      "|0.0      |583  |\n",
      "|1.0      |509  |\n",
      "|2.0      |508  |\n",
      "|3.0      |507  |\n",
      "|4.0      |485  |\n",
      "|5.0      |481  |\n",
      "|6.0      |478  |\n",
      "|7.0      |452  |\n",
      "|8.0      |431  |\n",
      "|9.0      |429  |\n",
      "+---------+-----+\n",
      "only showing top 10 rows\n"
     ]
    }
   ],
   "source": [
    "indexed.groupBy('title_new').count().orderBy('count', ascending=False).show(10, False)"
   ]
  },
  {
   "cell_type": "code",
   "execution_count": 13,
   "id": "da92b251",
   "metadata": {},
   "outputs": [],
   "source": [
    "# Splitting the data into training and test sets"
   ]
  },
  {
   "cell_type": "code",
   "execution_count": 14,
   "id": "d7130fe6",
   "metadata": {},
   "outputs": [
    {
     "data": {
      "text/plain": [
       "(74998, 25002)"
      ]
     },
     "execution_count": 14,
     "metadata": {},
     "output_type": "execute_result"
    }
   ],
   "source": [
    "train, test = indexed.randomSplit([0.75, 0.25], seed=42)\n",
    "\n",
    "train.count(), test.count()"
   ]
  },
  {
   "cell_type": "code",
   "execution_count": 15,
   "id": "f2e1ad5e",
   "metadata": {},
   "outputs": [],
   "source": [
    "# Building the recommendation model using ALS (Alternating Least Squares)"
   ]
  },
  {
   "cell_type": "code",
   "execution_count": 16,
   "id": "535d8662",
   "metadata": {},
   "outputs": [],
   "source": [
    "from pyspark.ml.recommendation import ALS"
   ]
  },
  {
   "cell_type": "code",
   "execution_count": null,
   "id": "eb55f3e7",
   "metadata": {},
   "outputs": [],
   "source": [
    "rec = ALS(maxIter=10, regParam=0.01,\n",
    "          userCol='userId',\n",
    "          itemCol='title_new',\n",
    "          ratingCol='rating',\n",
    "          coldStartStrategy=\"drop\",\n",
    "          nonnegative=True,\n",
    "          seed=42)\n",
    "\n",
    "rec_model = rec.fit(train)"
   ]
  },
  {
   "cell_type": "code",
   "execution_count": 33,
   "id": "3bd3682d",
   "metadata": {},
   "outputs": [
    {
     "name": "stdout",
     "output_type": "stream",
     "text": [
      "+---+-----------------------------------------------------------------------------------------------------------------+\n",
      "|id |features                                                                                                         |\n",
      "+---+-----------------------------------------------------------------------------------------------------------------+\n",
      "|10 |[0.17888081, 0.3228659, 0.43708283, 0.5454624, 0.6167099, 0.6390707, 0.59710073, 1.364871, 0.8377565, 0.7005153] |\n",
      "|20 |[2.978023, 0.0, 2.1974392, 0.09069832, 0.21164122, 0.0, 0.0, 0.8307876, 0.0, 0.37476385]                         |\n",
      "|30 |[0.3836588, 0.6007229, 0.13447823, 0.8872036, 1.0458249, 0.02571405, 0.5775206, 1.5185736, 0.43187237, 0.7686698]|\n",
      "|40 |[0.21955208, 0.0, 0.68653584, 1.0438461, 0.0, 0.31299067, 0.0, 1.0433594, 0.61180145, 0.7487539]                 |\n",
      "|50 |[0.7836244, 0.0, 0.22449417, 0.49809077, 2.6277509, 0.066779755, 2.0284233, 0.18820637, 0.0, 0.13991627]         |\n",
      "+---+-----------------------------------------------------------------------------------------------------------------+\n",
      "only showing top 5 rows\n"
     ]
    }
   ],
   "source": [
    "rec_model.userFactors.show(5, False)"
   ]
  },
  {
   "cell_type": "code",
   "execution_count": 34,
   "id": "13e0c4b7",
   "metadata": {},
   "outputs": [
    {
     "name": "stdout",
     "output_type": "stream",
     "text": [
      "+---+--------------------------------------------------------------------------------------------------------------------+\n",
      "|id |features                                                                                                            |\n",
      "+---+--------------------------------------------------------------------------------------------------------------------+\n",
      "|0  |[0.16066729, 0.0, 0.026495954, 0.78164697, 0.0, 0.9509615, 0.002408314, 2.0225258, 0.16251276, 0.9375548]           |\n",
      "|10 |[0.16288243, 0.031724364, 0.053742517, 0.42010498, 0.0, 0.98259026, 0.0, 2.1066735, 0.028923456, 0.982166]          |\n",
      "|20 |[0.29289958, 0.023079636, 0.17107424, 0.2545934, 0.0, 0.91223335, 0.46981126, 1.7048002, 0.1149146, 1.023756]       |\n",
      "|30 |[0.008473841, 0.5779887, 0.36791494, 1.1691294, 0.54849464, 0.29045224, 0.14994033, 1.269256, 1.0188304, 0.21786287]|\n",
      "|40 |[0.34112695, 0.12728965, 0.43946913, 0.39694107, 0.10895834, 1.2414963, 0.48172995, 1.4029782, 0.2755354, 0.8059903]|\n",
      "+---+--------------------------------------------------------------------------------------------------------------------+\n",
      "only showing top 5 rows\n"
     ]
    }
   ],
   "source": [
    "rec_model.itemFactors.show(5, False)"
   ]
  },
  {
   "cell_type": "markdown",
   "id": "7e3d263f",
   "metadata": {},
   "source": [
    "# Predictions and Evaluation"
   ]
  },
  {
   "cell_type": "code",
   "execution_count": 18,
   "id": "0d05cd7c",
   "metadata": {},
   "outputs": [
    {
     "name": "stdout",
     "output_type": "stream",
     "text": [
      "root\n",
      " |-- userId: integer (nullable = true)\n",
      " |-- title: string (nullable = true)\n",
      " |-- rating: integer (nullable = true)\n",
      " |-- title_new: integer (nullable = true)\n",
      " |-- prediction: float (nullable = false)\n",
      "\n",
      "+------+-----------------------------------------+------+---------+----------+\n",
      "|userId|title                                    |rating|title_new|prediction|\n",
      "+------+-----------------------------------------+------+---------+----------+\n",
      "|790   |Brady Bunch Movie, The (1995)            |4     |433      |2.5830762 |\n",
      "|620   |Jumanji (1995)                           |5     |348      |3.6472898 |\n",
      "|303   |Last Man Standing (1996)                 |2     |584      |2.75623   |\n",
      "|782   |Tetsuo II: Body Hammer (1992)            |3     |1284     |2.5778978 |\n",
      "|422   |Return of the Jedi (1983)                |4     |3        |3.6562958 |\n",
      "|13    |Candyman (1992)                          |1     |503      |1.5392804 |\n",
      "|452   |Butch Cassidy and the Sundance Kid (1969)|3     |101      |4.0773215 |\n",
      "|22    |Hot Shots! Part Deux (1993)              |4     |477      |2.5269275 |\n",
      "|689   |Fifth Element, The (1997)                |5     |121      |4.1448345 |\n",
      "|749   |Stargate (1994)                          |3     |258      |3.229978  |\n",
      "+------+-----------------------------------------+------+---------+----------+\n",
      "only showing top 10 rows\n"
     ]
    }
   ],
   "source": [
    "predicted_ratings = rec_model.transform(test)\n",
    "predicted_ratings.printSchema()\n",
    "predicted_ratings.orderBy(rand()).show(10, False)"
   ]
  },
  {
   "cell_type": "code",
   "execution_count": 19,
   "id": "e706723f",
   "metadata": {},
   "outputs": [
    {
     "name": "stdout",
     "output_type": "stream",
     "text": [
      "+-------+-----------------+--------------------+------------------+------------------+------------------+\n",
      "|summary|           userId|               title|            rating|         title_new|        prediction|\n",
      "+-------+-----------------+--------------------+------------------+------------------+------------------+\n",
      "|  count|            24943|               24943|             24943|             24943|             24943|\n",
      "|   mean|462.3705648879445|                NULL|3.5339373772200617|306.29246682435956|3.5416852498874865|\n",
      "| stddev|265.2141419496299|                NULL|1.1298683987242488| 296.6218928669646|0.8697261234818273|\n",
      "|    min|                1|'Til There Was Yo...|                 1|                 0|               0.0|\n",
      "|    max|              943|             unknown|                 5|              1529|          9.205758|\n",
      "+-------+-----------------+--------------------+------------------+------------------+------------------+\n",
      "\n"
     ]
    }
   ],
   "source": [
    "predicted_ratings.describe().show()"
   ]
  },
  {
   "cell_type": "code",
   "execution_count": 20,
   "id": "ef2c52df",
   "metadata": {},
   "outputs": [
    {
     "name": "stdout",
     "output_type": "stream",
     "text": [
      "+------+-----------------------------------------------------------+------+---------+----------+\n",
      "|userId|title                                                      |rating|title_new|prediction|\n",
      "+------+-----------------------------------------------------------+------+---------+----------+\n",
      "|731   |Paradise Lost: The Child Murders at Robin Hood Hills (1996)|1     |928      |9.205758  |\n",
      "|180   |Safe (1995)                                                |5     |1057     |8.772025  |\n",
      "|427   |Wishmaster (1997)                                          |5     |836      |8.523086  |\n",
      "|565   |Tie Me Up! Tie Me Down! (1990)                             |5     |776      |8.505151  |\n",
      "|97    |Body Snatchers (1993)                                      |5     |467      |8.089277  |\n",
      "|572   |Basquiat (1996)                                            |2     |648      |7.968692  |\n",
      "|434   |Crow: City of Angels, The (1996)                           |1     |714      |7.8812532 |\n",
      "|673   |Apostle, The (1997)                                        |5     |569      |7.758283  |\n",
      "|366   |Bad Taste (1987)                                           |5     |984      |7.7484455 |\n",
      "|233   |Once Were Warriors (1994)                                  |5     |787      |7.745498  |\n",
      "+------+-----------------------------------------------------------+------+---------+----------+\n",
      "only showing top 10 rows\n"
     ]
    }
   ],
   "source": [
    "predicted_ratings.orderBy('prediction',ascending=False).show(10, False)"
   ]
  },
  {
   "cell_type": "code",
   "execution_count": 21,
   "id": "078435dc",
   "metadata": {},
   "outputs": [
    {
     "name": "stdout",
     "output_type": "stream",
     "text": [
      "Root-mean-square error = 1.0300949174508718\n"
     ]
    }
   ],
   "source": [
    "from pyspark.ml.evaluation import RegressionEvaluator\n",
    "\n",
    "evaluator = RegressionEvaluator(metricName=\"rmse\", labelCol=\"rating\",\n",
    "                                predictionCol=\"prediction\")\n",
    "\n",
    "rmse = evaluator.evaluate(predicted_ratings)\n",
    "print(f\"Root-mean-square error = {rmse}\")"
   ]
  },
  {
   "cell_type": "code",
   "execution_count": 30,
   "id": "87bcdef7",
   "metadata": {},
   "outputs": [
    {
     "data": {
      "text/plain": [
       "<seaborn.axisgrid.JointGrid at 0x7f5c399257f0>"
      ]
     },
     "execution_count": 30,
     "metadata": {},
     "output_type": "execute_result"
    },
    {
     "data": {
      "image/png": "[encoded data removed]",
      "text/plain": [
       "<Figure size 600x600 with 3 Axes>"
      ]
     },
     "metadata": {},
     "output_type": "display_data"
    }
   ],
   "source": [
    "import seaborn as sns\n",
    "\n",
    "preds_and_labels = predicted_ratings.select('prediction', 'rating').toPandas()\n",
    "\n",
    "sns.jointplot(x='rating', y='prediction', data=preds_and_labels)\n"
   ]
  },
  {
   "cell_type": "markdown",
   "id": "a0446638",
   "metadata": {},
   "source": [
    "# Let's recommend"
   ]
  },
  {
   "cell_type": "code",
   "execution_count": 22,
   "id": "a05664c2",
   "metadata": {},
   "outputs": [
    {
     "name": "stdout",
     "output_type": "stream",
     "text": [
      "1664\n",
      "+---------+\n",
      "|title_new|\n",
      "+---------+\n",
      "|    305.0|\n",
      "|    596.0|\n",
      "|    299.0|\n",
      "|    769.0|\n",
      "|    692.0|\n",
      "+---------+\n",
      "only showing top 5 rows\n"
     ]
    }
   ],
   "source": [
    "# Distinct movies in the dataset\n",
    "\n",
    "unique_movies = indexed.select('title_new').distinct()\n",
    "print(unique_movies.count())\n",
    "unique_movies.show(5)\n",
    "\n",
    "a = unique_movies.alias('a')"
   ]
  },
  {
   "cell_type": "code",
   "execution_count": 23,
   "id": "c5a02e6e",
   "metadata": {},
   "outputs": [
    {
     "name": "stdout",
     "output_type": "stream",
     "text": [
      "287\n",
      "+---------+\n",
      "|title_new|\n",
      "+---------+\n",
      "|    305.0|\n",
      "|    558.0|\n",
      "|    147.0|\n",
      "|     70.0|\n",
      "|     67.0|\n",
      "+---------+\n",
      "only showing top 5 rows\n"
     ]
    }
   ],
   "source": [
    "# Movies watched by a specific user\n",
    "\n",
    "user_id = 85\n",
    "\n",
    "watched_movies = indexed.filter(indexed['userId'] == user_id).select('title_new').distinct()\n",
    "print(watched_movies.count())\n",
    "\n",
    "watched_movies.show(5)\n",
    "\n",
    "b=watched_movies.alias('b')"
   ]
  },
  {
   "cell_type": "code",
   "execution_count": 24,
   "id": "a01e4ebf",
   "metadata": {},
   "outputs": [
    {
     "name": "stdout",
     "output_type": "stream",
     "text": [
      "+---------+---------+\n",
      "|title_new|title_new|\n",
      "+---------+---------+\n",
      "|    305.0|    305.0|\n",
      "|    596.0|     NULL|\n",
      "|    299.0|     NULL|\n",
      "|    769.0|     NULL|\n",
      "|    692.0|     NULL|\n",
      "|    934.0|     NULL|\n",
      "|   1051.0|     NULL|\n",
      "|    496.0|     NULL|\n",
      "|    558.0|    558.0|\n",
      "|    170.0|     NULL|\n",
      "|    184.0|     NULL|\n",
      "|    576.0|     NULL|\n",
      "|    147.0|    147.0|\n",
      "|    810.0|     NULL|\n",
      "|    720.0|     NULL|\n",
      "|    782.0|     NULL|\n",
      "|   1369.0|     NULL|\n",
      "|   1587.0|     NULL|\n",
      "|    160.0|     NULL|\n",
      "|    608.0|     NULL|\n",
      "+---------+---------+\n",
      "only showing top 20 rows\n"
     ]
    }
   ],
   "source": [
    "# Movies not yet watched by the user\n",
    "\n",
    "total_movies = a.join(b, a.title_new == b.title_new, how='left')\n",
    "total_movies.show()"
   ]
  },
  {
   "cell_type": "code",
   "execution_count": 25,
   "id": "62ca8e2e",
   "metadata": {},
   "outputs": [
    {
     "name": "stdout",
     "output_type": "stream",
     "text": [
      "1377\n",
      "+---------+\n",
      "|title_new|\n",
      "+---------+\n",
      "|    596.0|\n",
      "|    299.0|\n",
      "|    769.0|\n",
      "|    692.0|\n",
      "|    934.0|\n",
      "+---------+\n",
      "only showing top 5 rows\n"
     ]
    }
   ],
   "source": [
    "remaining_movies = total_movies.where(col('b.title_new').isNull()).select('a.title_new').distinct()\n",
    "print(remaining_movies.count())\n",
    "remaining_movies.show(5)\n"
   ]
  },
  {
   "cell_type": "code",
   "execution_count": 26,
   "id": "6ab886ab",
   "metadata": {},
   "outputs": [
    {
     "name": "stdout",
     "output_type": "stream",
     "text": [
      "+---------+------+\n",
      "|title_new|userId|\n",
      "+---------+------+\n",
      "|    596.0|    85|\n",
      "|    299.0|    85|\n",
      "|    769.0|    85|\n",
      "|    692.0|    85|\n",
      "|    934.0|    85|\n",
      "+---------+------+\n",
      "only showing top 5 rows\n"
     ]
    }
   ],
   "source": [
    "remaining_movies = remaining_movies.withColumn('userId', lit(int(user_id)))\n",
    "remaining_movies.show(5)"
   ]
  },
  {
   "cell_type": "code",
   "execution_count": 27,
   "id": "d9c8045d",
   "metadata": {},
   "outputs": [
    {
     "name": "stdout",
     "output_type": "stream",
     "text": [
      "+---------+------+----------+\n",
      "|title_new|userId|prediction|\n",
      "+---------+------+----------+\n",
      "|1289     |85    |5.927988  |\n",
      "|1347     |85    |5.6707764 |\n",
      "|1028     |85    |5.028058  |\n",
      "|984      |85    |4.973321  |\n",
      "|1288     |85    |4.881255  |\n",
      "|1321     |85    |4.6206026 |\n",
      "|1054     |85    |4.5579696 |\n",
      "|1198     |85    |4.524451  |\n",
      "|1207     |85    |4.502366  |\n",
      "|1306     |85    |4.5005054 |\n",
      "+---------+------+----------+\n",
      "only showing top 10 rows\n"
     ]
    }
   ],
   "source": [
    "recommendations = rec_model.transform(remaining_movies).orderBy('prediction', ascending=False)\n",
    "\n",
    "recommendations.show(10, False)"
   ]
  },
  {
   "cell_type": "code",
   "execution_count": 29,
   "id": "8b258353",
   "metadata": {},
   "outputs": [
    {
     "name": "stdout",
     "output_type": "stream",
     "text": [
      "+---------+------+----------+--------------------------------------+\n",
      "|title_new|userId|prediction|movie_title                           |\n",
      "+---------+------+----------+--------------------------------------+\n",
      "|1289     |85    |5.927988  |World of Apu, The (Apur Sansar) (1959)|\n",
      "|1347     |85    |5.6707764 |Angel Baby (1995)                     |\n",
      "|1028     |85    |5.028058  |Braindead (1992)                      |\n",
      "|984      |85    |4.973321  |Bad Taste (1987)                      |\n",
      "|1288     |85    |4.881255  |Whole Wide World, The (1996)          |\n",
      "|1321     |85    |4.6206026 |Of Human Bondage (1934)               |\n",
      "|1054     |85    |4.5579696 |Primary Colors (1998)                 |\n",
      "|1198     |85    |4.524451  |Pather Panchali (1955)                |\n",
      "|1207     |85    |4.502366  |Aparajito (1956)                      |\n",
      "|1306     |85    |4.5005054 |Faust (1994)                          |\n",
      "|108      |85    |4.4457107 |Rear Window (1954)                    |\n",
      "|1518     |85    |4.441387  |Some Mother's Son (1996)              |\n",
      "|917      |85    |4.401615  |Top Hat (1935)                        |\n",
      "|1513     |85    |4.3968983 |Santa with Muscles (1996)             |\n",
      "|1470     |85    |4.3902617 |Butcher Boy, The (1998)               |\n",
      "|261      |85    |4.3657594 |12 Angry Men (1957)                   |\n",
      "|220      |85    |4.3451824 |Maltese Falcon, The (1941)            |\n",
      "|183      |85    |4.332143  |Secrets & Lies (1996)                 |\n",
      "|829      |85    |4.3276134 |My Man Godfrey (1936)                 |\n",
      "|663      |85    |4.3154793 |When We Were Kings (1996)             |\n",
      "+---------+------+----------+--------------------------------------+\n",
      "only showing top 20 rows\n"
     ]
    }
   ],
   "source": [
    "movie_title = IndexToString(inputCol='title_new', outputCol='movie_title',\n",
    "                            labels=model.labels)\n",
    "\n",
    "final_recommendations = movie_title.transform(recommendations)\n",
    "final_recommendations.show(20, False)"
   ]
  },
  {
   "cell_type": "code",
   "execution_count": 39,
   "id": "8db159f3",
   "metadata": {},
   "outputs": [],
   "source": [
    "recommendations = rec_model.recommendForAllUsers(5)\n"
   ]
  },
  {
   "cell_type": "code",
   "execution_count": 41,
   "id": "2216a39a",
   "metadata": {},
   "outputs": [
    {
     "name": "stdout",
     "output_type": "stream",
     "text": [
      "+------+---------+---------+-----------------------------------------------------------+\n",
      "|userId|title_new|rating   |movie_title                                                |\n",
      "+------+---------+---------+-----------------------------------------------------------+\n",
      "|1     |794      |5.800436 |FairyTale: A True Story (1997)                             |\n",
      "|1     |766      |5.712688 |Brassed Off (1996)                                         |\n",
      "|1     |0        |5.40884  |Star Wars (1977)                                           |\n",
      "|1     |285      |5.3433022|Wrong Trousers, The (1993)                                 |\n",
      "|1     |302      |5.3254957|Close Shave, A (1995)                                      |\n",
      "|2     |1207     |6.4685287|Aparajito (1956)                                           |\n",
      "|2     |1289     |6.4091635|World of Apu, The (Apur Sansar) (1959)                     |\n",
      "|2     |950      |6.196776 |Amateur (1994)                                             |\n",
      "|2     |779      |5.7389245|Die xue shuang xiong (Killer, The) (1989)                  |\n",
      "|2     |770      |5.6320524|Fast, Cheap & Out of Control (1997)                        |\n",
      "|3     |770      |6.1008363|Fast, Cheap & Out of Control (1997)                        |\n",
      "|3     |984      |5.6737022|Bad Taste (1987)                                           |\n",
      "|3     |982      |5.4874635|Switchback (1997)                                          |\n",
      "|3     |928      |5.2755966|Paradise Lost: The Child Murders at Robin Hood Hills (1996)|\n",
      "|3     |829      |5.2635183|My Man Godfrey (1936)                                      |\n",
      "+------+---------+---------+-----------------------------------------------------------+\n",
      "only showing top 15 rows\n"
     ]
    }
   ],
   "source": [
    "\n",
    "# convert to movie titles\n",
    "recomm = recommendations.withColumn('rec_expanded',\n",
    "                                             explode('recommendations')).select('userId', col('rec_expanded.title_new'), col('rec_expanded.rating'))\n",
    "recomm = movie_title.transform(recomm)\n",
    "\n",
    "recomm.show(15, False)"
   ]
  },
  {
   "cell_type": "code",
   "execution_count": null,
   "id": "5365a7c8",
   "metadata": {},
   "outputs": [],
   "source": []
  }
 ],
 "metadata": {
  "kernelspec": {
   "display_name": "Python 3 (ipykernel)",
   "language": "python",
   "name": "python3"
  },
  "language_info": {
   "codemirror_mode": {
    "name": "ipython",
    "version": 3
   },
   "file_extension": ".py",
   "mimetype": "text/x-python",
   "name": "python",
   "nbconvert_exporter": "python",
   "pygments_lexer": "ipython3",
   "version": "3.13.7"
  }
 },
 "nbformat": 4,
 "nbformat_minor": 5
}
