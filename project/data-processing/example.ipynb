{
 "cells": [
  {
   "cell_type": "code",
   "execution_count": null,
   "id": "d68dcb82",
   "metadata": {},
   "outputs": [
    {
     "name": "stdout",
     "output_type": "stream",
     "text": [
      "+------------+-----------+------------+-----------+-------+\n",
      "|sepal_length|sepal_width|petal_length|petal_width|species|\n",
      "+------------+-----------+------------+-----------+-------+\n",
      "|         5.1|        3.5|         1.4|        0.2| setosa|\n",
      "|         4.9|        3.0|         1.4|        0.2| setosa|\n",
      "|         4.7|        3.2|         1.3|        0.2| setosa|\n",
      "|         4.6|        3.1|         1.5|        0.2| setosa|\n",
      "|         5.0|        3.6|         1.4|        0.2| setosa|\n",
      "+------------+-----------+------------+-----------+-------+\n",
      "only showing top 5 rows\n",
      "root\n",
      " |-- sepal_length: double (nullable = true)\n",
      " |-- sepal_width: double (nullable = true)\n",
      " |-- petal_length: double (nullable = true)\n",
      " |-- petal_width: double (nullable = true)\n",
      " |-- species: string (nullable = true)\n",
      "\n"
     ]
    }
   ],
   "source": [
    "from pyspark.sql import SparkSession\n",
    "import os\n",
    "import tempfile\n",
    "\n",
    "import urllib.request\n",
    "\n",
    "# Create Spark session\n",
    "spark = SparkSession.builder \\\n",
    "    .master(\"local[*]\") \\\n",
    "    .appName(\"sample-read\") \\\n",
    "    .getOrCreate()\n",
    "\n",
    "# Download a small sample CSV (Iris) to a temp file and read it with Spark\n",
    "url = \"https://raw.githubusercontent.com/mwaskom/seaborn-data/master/iris.csv\"\n",
    "local_path = os.path.join(tempfile.gettempdir(), \"iris.csv\")\n",
    "urllib.request.urlretrieve(url, local_path)\n",
    "\n",
    "df = spark.read.csv(local_path, header=True, inferSchema=True)\n",
    "\n",
    "# Quick sanity checks\n",
    "df.show(5)"
   ]
  },
  {
   "cell_type": "code",
   "execution_count": 4,
   "id": "b5e7d631",
   "metadata": {},
   "outputs": [
    {
     "data": {
      "text/plain": [
       "(['sepal_length', 'sepal_width', 'petal_length', 'petal_width', 'species'],\n",
       " 150)"
      ]
     },
     "execution_count": 4,
     "metadata": {},
     "output_type": "execute_result"
    }
   ],
   "source": [
    "df.columns, df.count()"
   ]
  },
  {
   "cell_type": "code",
   "execution_count": 5,
   "id": "21018389",
   "metadata": {},
   "outputs": [
    {
     "name": "stdout",
     "output_type": "stream",
     "text": [
      "root\n",
      " |-- sepal_length: double (nullable = true)\n",
      " |-- sepal_width: double (nullable = true)\n",
      " |-- petal_length: double (nullable = true)\n",
      " |-- petal_width: double (nullable = true)\n",
      " |-- species: string (nullable = true)\n",
      "\n"
     ]
    }
   ],
   "source": [
    "df.printSchema()"
   ]
  },
  {
   "cell_type": "code",
   "execution_count": 10,
   "id": "e9b5a406",
   "metadata": {},
   "outputs": [
    {
     "name": "stdout",
     "output_type": "stream",
     "text": [
      "+------------+-------+\n",
      "|sepal_length|species|\n",
      "+------------+-------+\n",
      "|         5.1| setosa|\n",
      "|         4.9| setosa|\n",
      "|         4.7| setosa|\n",
      "|         4.6| setosa|\n",
      "|         5.0| setosa|\n",
      "+------------+-------+\n",
      "only showing top 5 rows\n"
     ]
    }
   ],
   "source": [
    "df.select('sepal_length', 'species').show(5)"
   ]
  },
  {
   "cell_type": "code",
   "execution_count": 12,
   "id": "815b4cf8",
   "metadata": {},
   "outputs": [
    {
     "name": "stdout",
     "output_type": "stream",
     "text": [
      "+-------+------------------+-------------------+------------------+------------------+---------+\n",
      "|summary|      sepal_length|        sepal_width|      petal_length|       petal_width|  species|\n",
      "+-------+------------------+-------------------+------------------+------------------+---------+\n",
      "|  count|               150|                150|               150|               150|      150|\n",
      "|   mean| 5.843333333333335|  3.057333333333334|3.7580000000000027| 1.199333333333334|     NULL|\n",
      "| stddev|0.8280661279778637|0.43586628493669793|1.7652982332594662|0.7622376689603467|     NULL|\n",
      "|    min|               4.3|                2.0|               1.0|               0.1|   setosa|\n",
      "|    max|               7.9|                4.4|               6.9|               2.5|virginica|\n",
      "+-------+------------------+-------------------+------------------+------------------+---------+\n",
      "\n"
     ]
    }
   ],
   "source": [
    "df.describe().show()"
   ]
  },
  {
   "cell_type": "code",
   "execution_count": 14,
   "id": "6047521a",
   "metadata": {},
   "outputs": [
    {
     "name": "stdout",
     "output_type": "stream",
     "text": [
      "+------------+-----------+------------+-----------+-------+---------------+\n",
      "|sepal_length|sepal_width|petal_length|petal_width|species|sepal_length_10|\n",
      "+------------+-----------+------------+-----------+-------+---------------+\n",
      "|5.1         |3.5        |1.4         |0.2        |setosa |15.1           |\n",
      "|4.9         |3.0        |1.4         |0.2        |setosa |14.9           |\n",
      "|4.7         |3.2        |1.3         |0.2        |setosa |14.7           |\n",
      "|4.6         |3.1        |1.5         |0.2        |setosa |14.6           |\n",
      "|5.0         |3.6        |1.4         |0.2        |setosa |15.0           |\n",
      "+------------+-----------+------------+-----------+-------+---------------+\n",
      "only showing top 5 rows\n"
     ]
    }
   ],
   "source": [
    "df.withColumn(\"sepal_length_10\", df['sepal_length']+10).show(5, truncate=False)"
   ]
  },
  {
   "cell_type": "code",
   "execution_count": 20,
   "id": "a6abf5b9",
   "metadata": {},
   "outputs": [],
   "source": [
    "df = df.withColumn(\"sepal_length_10\", df['sepal_length']+10)"
   ]
  },
  {
   "cell_type": "code",
   "execution_count": 22,
   "id": "3f1aa517",
   "metadata": {},
   "outputs": [
    {
     "name": "stdout",
     "output_type": "stream",
     "text": [
      "+------------+-----------+------------+-----------+-------+---------------+\n",
      "|sepal_length|sepal_width|petal_length|petal_width|species|sepal_length_10|\n",
      "+------------+-----------+------------+-----------+-------+---------------+\n",
      "|5.1         |3.5        |1.4         |0.2        |setosa |15.1           |\n",
      "|4.9         |3.0        |1.4         |0.2        |setosa |14.9           |\n",
      "|4.7         |3.2        |1.3         |0.2        |setosa |14.7           |\n",
      "|4.6         |3.1        |1.5         |0.2        |setosa |14.6           |\n",
      "|5.0         |3.6        |1.4         |0.2        |setosa |15.0           |\n",
      "+------------+-----------+------------+-----------+-------+---------------+\n",
      "only showing top 5 rows\n"
     ]
    }
   ],
   "source": [
    "df.show(5, truncate=False)"
   ]
  },
  {
   "cell_type": "markdown",
   "id": "58e4c4a6",
   "metadata": {},
   "source": [
    "# Filtering examples"
   ]
  },
  {
   "cell_type": "code",
   "execution_count": 58,
   "id": "14be3521",
   "metadata": {},
   "outputs": [
    {
     "name": "stdout",
     "output_type": "stream",
     "text": [
      "+------------+-----------+------------+-----------+-------+---------------+\n",
      "|sepal_length|sepal_width|petal_length|petal_width|species|sepal_length_10|\n",
      "+------------+-----------+------------+-----------+-------+---------------+\n",
      "|         5.1|        3.5|         1.4|        0.2| setosa|           15.1|\n",
      "|         5.4|        3.9|         1.7|        0.4| setosa|           15.4|\n",
      "|         5.4|        3.7|         1.5|        0.2| setosa|           15.4|\n",
      "|         5.8|        4.0|         1.2|        0.2| setosa|           15.8|\n",
      "|         5.7|        4.4|         1.5|        0.4| setosa|           15.7|\n",
      "|         5.4|        3.9|         1.3|        0.4| setosa|           15.4|\n",
      "|         5.1|        3.5|         1.4|        0.3| setosa|           15.1|\n",
      "|         5.7|        3.8|         1.7|        0.3| setosa|           15.7|\n",
      "|         5.1|        3.8|         1.5|        0.3| setosa|           15.1|\n",
      "|         5.4|        3.4|         1.7|        0.2| setosa|           15.4|\n",
      "|         5.1|        3.7|         1.5|        0.4| setosa|           15.1|\n",
      "|         5.1|        3.3|         1.7|        0.5| setosa|           15.1|\n",
      "|         5.2|        3.5|         1.5|        0.2| setosa|           15.2|\n",
      "|         5.2|        3.4|         1.4|        0.2| setosa|           15.2|\n",
      "|         5.4|        3.4|         1.5|        0.4| setosa|           15.4|\n",
      "|         5.2|        4.1|         1.5|        0.1| setosa|           15.2|\n",
      "|         5.5|        4.2|         1.4|        0.2| setosa|           15.5|\n",
      "|         5.5|        3.5|         1.3|        0.2| setosa|           15.5|\n",
      "|         5.1|        3.4|         1.5|        0.2| setosa|           15.1|\n",
      "|         5.1|        3.8|         1.9|        0.4| setosa|           15.1|\n",
      "+------------+-----------+------------+-----------+-------+---------------+\n",
      "only showing top 20 rows\n"
     ]
    }
   ],
   "source": [
    "df.filter(df['sepal_length'] > 5).show()"
   ]
  },
  {
   "cell_type": "code",
   "execution_count": 59,
   "id": "f8a1ff73",
   "metadata": {},
   "outputs": [
    {
     "name": "stdout",
     "output_type": "stream",
     "text": [
      "+------------+-----------+------------+-----------+-------+---------------+\n",
      "|sepal_length|sepal_width|petal_length|petal_width|species|sepal_length_10|\n",
      "+------------+-----------+------------+-----------+-------+---------------+\n",
      "|         5.1|        3.5|         1.4|        0.2| setosa|           15.1|\n",
      "|         4.9|        3.0|         1.4|        0.2| setosa|           14.9|\n",
      "|         4.7|        3.2|         1.3|        0.2| setosa|           14.7|\n",
      "|         4.6|        3.1|         1.5|        0.2| setosa|           14.6|\n",
      "|         5.0|        3.6|         1.4|        0.2| setosa|           15.0|\n",
      "+------------+-----------+------------+-----------+-------+---------------+\n",
      "only showing top 5 rows\n"
     ]
    }
   ],
   "source": [
    "df.filter(df['species'] == 'setosa').show(5)"
   ]
  },
  {
   "cell_type": "code",
   "execution_count": 60,
   "id": "1a4f0e51",
   "metadata": {},
   "outputs": [
    {
     "name": "stdout",
     "output_type": "stream",
     "text": [
      "+------------+-----------+\n",
      "|sepal_length|sepal_width|\n",
      "+------------+-----------+\n",
      "|         5.1|        3.5|\n",
      "|         4.9|        3.0|\n",
      "|         4.7|        3.2|\n",
      "|         4.6|        3.1|\n",
      "|         5.0|        3.6|\n",
      "+------------+-----------+\n",
      "only showing top 5 rows\n"
     ]
    }
   ],
   "source": [
    "df.filter(df['species'] == 'setosa').select('sepal_length', 'sepal_width').show(5)"
   ]
  },
  {
   "cell_type": "code",
   "execution_count": 61,
   "id": "69daed71",
   "metadata": {},
   "outputs": [
    {
     "name": "stdout",
     "output_type": "stream",
     "text": [
      "+------------+-----------+------------+-----------+-------+---------------+\n",
      "|sepal_length|sepal_width|petal_length|petal_width|species|sepal_length_10|\n",
      "+------------+-----------+------------+-----------+-------+---------------+\n",
      "|         5.4|        3.4|         1.7|        0.2| setosa|           15.4|\n",
      "|         5.1|        3.3|         1.7|        0.5| setosa|           15.1|\n",
      "|         5.2|        3.4|         1.4|        0.2| setosa|           15.2|\n",
      "|         5.4|        3.4|         1.5|        0.4| setosa|           15.4|\n",
      "|         5.1|        3.4|         1.5|        0.2| setosa|           15.1|\n",
      "+------------+-----------+------------+-----------+-------+---------------+\n",
      "only showing top 5 rows\n"
     ]
    }
   ],
   "source": [
    "df.filter(df['sepal_length'] > 5.0).filter(df['sepal_width'] < 3.5).show(5)"
   ]
  },
  {
   "cell_type": "code",
   "execution_count": 62,
   "id": "963cd2c9",
   "metadata": {},
   "outputs": [
    {
     "name": "stdout",
     "output_type": "stream",
     "text": [
      "+------------+-----------+------------+-----------+-------+---------------+\n",
      "|sepal_length|sepal_width|petal_length|petal_width|species|sepal_length_10|\n",
      "+------------+-----------+------------+-----------+-------+---------------+\n",
      "|         5.4|        3.4|         1.7|        0.2| setosa|           15.4|\n",
      "|         5.1|        3.3|         1.7|        0.5| setosa|           15.1|\n",
      "|         5.2|        3.4|         1.4|        0.2| setosa|           15.2|\n",
      "|         5.4|        3.4|         1.5|        0.4| setosa|           15.4|\n",
      "|         5.1|        3.4|         1.5|        0.2| setosa|           15.1|\n",
      "+------------+-----------+------------+-----------+-------+---------------+\n",
      "only showing top 5 rows\n"
     ]
    }
   ],
   "source": [
    "df.filter((df['sepal_length']>5)&(df['sepal_width']<3.5)).show(5)  # Just to have a place to end"
   ]
  },
  {
   "cell_type": "code",
   "execution_count": 63,
   "id": "64bf9ff0",
   "metadata": {},
   "outputs": [
    {
     "name": "stdout",
     "output_type": "stream",
     "text": [
      "+------------+-----------+------------+-----------+-------+---------------+\n",
      "|sepal_length|sepal_width|petal_length|petal_width|species|sepal_length_10|\n",
      "+------------+-----------+------------+-----------+-------+---------------+\n",
      "|         5.1|        3.5|         1.4|        0.2| setosa|           15.1|\n",
      "|         4.9|        3.0|         1.4|        0.2| setosa|           14.9|\n",
      "|         4.7|        3.2|         1.3|        0.2| setosa|           14.7|\n",
      "|         4.6|        3.1|         1.5|        0.2| setosa|           14.6|\n",
      "|         5.4|        3.9|         1.7|        0.4| setosa|           15.4|\n",
      "+------------+-----------+------------+-----------+-------+---------------+\n",
      "only showing top 5 rows\n"
     ]
    }
   ],
   "source": [
    "df.filter((df['sepal_length']>5)|(df['sepal_width']<3.5)).show(5)"
   ]
  },
  {
   "cell_type": "code",
   "execution_count": 64,
   "id": "ccc08726",
   "metadata": {},
   "outputs": [
    {
     "name": "stdout",
     "output_type": "stream",
     "text": [
      "+----------+\n",
      "|   species|\n",
      "+----------+\n",
      "| virginica|\n",
      "|versicolor|\n",
      "|    setosa|\n",
      "+----------+\n",
      "\n"
     ]
    },
    {
     "data": {
      "text/plain": [
       "(None, 3)"
      ]
     },
     "execution_count": 64,
     "metadata": {},
     "output_type": "execute_result"
    }
   ],
   "source": [
    "df.select(\"species\").distinct().show(), df.select(\"species\").distinct().count()"
   ]
  },
  {
   "cell_type": "markdown",
   "id": "35d88027",
   "metadata": {},
   "source": [
    "# Grouping and aggregations examples"
   ]
  },
  {
   "cell_type": "code",
   "execution_count": 35,
   "id": "b6d7770c",
   "metadata": {},
   "outputs": [
    {
     "name": "stdout",
     "output_type": "stream",
     "text": [
      "+----------+-----+\n",
      "|   species|count|\n",
      "+----------+-----+\n",
      "| virginica|   50|\n",
      "|versicolor|   50|\n",
      "|    setosa|   50|\n",
      "+----------+-----+\n",
      "\n"
     ]
    }
   ],
   "source": [
    "df.groupBy(\"species\").count().show()"
   ]
  },
  {
   "cell_type": "code",
   "execution_count": 37,
   "id": "7b1bcba6",
   "metadata": {},
   "outputs": [
    {
     "name": "stdout",
     "output_type": "stream",
     "text": [
      "+----------+-----+\n",
      "|   species|count|\n",
      "+----------+-----+\n",
      "|versicolor|   29|\n",
      "| virginica|   26|\n",
      "|    setosa|   17|\n",
      "+----------+-----+\n",
      "\n"
     ]
    }
   ],
   "source": [
    "df.sample(fraction=0.5, seed=42).groupBy(\"species\").count().orderBy(\"count\", ascending=False).show()"
   ]
  },
  {
   "cell_type": "code",
   "execution_count": 38,
   "id": "684c336f",
   "metadata": {},
   "outputs": [
    {
     "name": "stdout",
     "output_type": "stream",
     "text": [
      "+----------+-----------------+------------------+------------------+------------------+--------------------+\n",
      "|   species|avg(sepal_length)|  avg(sepal_width)| avg(petal_length)|  avg(petal_width)|avg(sepal_length_10)|\n",
      "+----------+-----------------+------------------+------------------+------------------+--------------------+\n",
      "| virginica|6.587999999999998|2.9739999999999998|             5.552|             2.026|  16.587999999999997|\n",
      "|versicolor|            5.936|2.7700000000000005|              4.26|1.3259999999999998|  15.936000000000003|\n",
      "|    setosa|5.005999999999999| 3.428000000000001|1.4620000000000002|0.2459999999999999|  15.006000000000002|\n",
      "+----------+-----------------+------------------+------------------+------------------+--------------------+\n",
      "\n"
     ]
    }
   ],
   "source": [
    "df.groupBy(\"species\").mean().show()"
   ]
  },
  {
   "cell_type": "code",
   "execution_count": 39,
   "id": "766383c6",
   "metadata": {},
   "outputs": [
    {
     "name": "stdout",
     "output_type": "stream",
     "text": [
      "+----------+------------------+------------------+------------------+------------------+--------------------+\n",
      "|   species| sum(sepal_length)|  sum(sepal_width)| sum(petal_length)|  sum(petal_width)|sum(sepal_length_10)|\n",
      "+----------+------------------+------------------+------------------+------------------+--------------------+\n",
      "| virginica| 329.3999999999999|             148.7|277.59999999999997|101.29999999999998|   829.3999999999999|\n",
      "|versicolor|             296.8|138.50000000000003|212.99999999999997|              66.3|   796.8000000000002|\n",
      "|    setosa|250.29999999999998|171.40000000000003| 73.10000000000001|12.299999999999995|   750.3000000000001|\n",
      "+----------+------------------+------------------+------------------+------------------+--------------------+\n",
      "\n"
     ]
    }
   ],
   "source": [
    "df.groupBy(\"species\").sum().show()"
   ]
  },
  {
   "cell_type": "code",
   "execution_count": 40,
   "id": "cb751403",
   "metadata": {},
   "outputs": [
    {
     "name": "stdout",
     "output_type": "stream",
     "text": [
      "+----------+-----------------+----------------+-----------------+----------------+--------------------+\n",
      "|   species|max(sepal_length)|max(sepal_width)|max(petal_length)|max(petal_width)|max(sepal_length_10)|\n",
      "+----------+-----------------+----------------+-----------------+----------------+--------------------+\n",
      "| virginica|              7.9|             3.8|              6.9|             2.5|                17.9|\n",
      "|versicolor|              7.0|             3.4|              5.1|             1.8|                17.0|\n",
      "|    setosa|              5.8|             4.4|              1.9|             0.6|                15.8|\n",
      "+----------+-----------------+----------------+-----------------+----------------+--------------------+\n",
      "\n"
     ]
    }
   ],
   "source": [
    "df.groupBy(\"species\").max().show()"
   ]
  },
  {
   "cell_type": "code",
   "execution_count": 41,
   "id": "f6339b1c",
   "metadata": {},
   "outputs": [
    {
     "name": "stdout",
     "output_type": "stream",
     "text": [
      "+----------+-----------------+----------------+-----------------+----------------+--------------------+\n",
      "|   species|min(sepal_length)|min(sepal_width)|min(petal_length)|min(petal_width)|min(sepal_length_10)|\n",
      "+----------+-----------------+----------------+-----------------+----------------+--------------------+\n",
      "| virginica|              4.9|             2.2|              4.5|             1.4|                14.9|\n",
      "|versicolor|              4.9|             2.0|              3.0|             1.0|                14.9|\n",
      "|    setosa|              4.3|             2.3|              1.0|             0.1|                14.3|\n",
      "+----------+-----------------+----------------+-----------------+----------------+--------------------+\n",
      "\n"
     ]
    }
   ],
   "source": [
    "df.groupBy(\"species\").min().show()"
   ]
  },
  {
   "cell_type": "code",
   "execution_count": null,
   "id": "75df9daf",
   "metadata": {},
   "outputs": [],
   "source": [
    "# Aggregations with multiple functions on multiple columns"
   ]
  },
  {
   "cell_type": "code",
   "execution_count": 43,
   "id": "a97b706b",
   "metadata": {},
   "outputs": [
    {
     "name": "stdout",
     "output_type": "stream",
     "text": [
      "+----------+----------------+------------------+-----------------+\n",
      "|   species|max(sepal_width)|  sum(petal_width)|avg(sepal_length)|\n",
      "+----------+----------------+------------------+-----------------+\n",
      "| virginica|             3.8|101.29999999999998|6.587999999999998|\n",
      "|versicolor|             3.4|              66.3|            5.936|\n",
      "|    setosa|             4.4|12.299999999999995|5.005999999999999|\n",
      "+----------+----------------+------------------+-----------------+\n",
      "\n"
     ]
    }
   ],
   "source": [
    "df.groupBy(\"species\").agg({'sepal_length': 'avg', 'sepal_width': 'max', 'petal_width':'sum'}).show()"
   ]
  },
  {
   "cell_type": "markdown",
   "id": "d9720d55",
   "metadata": {},
   "source": [
    "# User-Defined Functions (UDFs)"
   ]
  },
  {
   "cell_type": "code",
   "execution_count": 69,
   "id": "69f63534",
   "metadata": {},
   "outputs": [],
   "source": [
    "from pyspark.sql.functions import udf\n",
    "from pyspark.sql.types import StringType"
   ]
  },
  {
   "cell_type": "code",
   "execution_count": 70,
   "id": "ddb6666b",
   "metadata": {},
   "outputs": [],
   "source": [
    "def categorize_sepal_length(length):\n",
    "    if length < 5.0:\n",
    "        return 'short'\n",
    "    elif 5.0 <= length < 6.5:\n",
    "        return 'medium'\n",
    "    else:\n",
    "        return 'long'"
   ]
  },
  {
   "cell_type": "code",
   "execution_count": 71,
   "id": "6a95dcce",
   "metadata": {},
   "outputs": [],
   "source": [
    "categorize_sepal_length_udf = udf(categorize_sepal_length, StringType())"
   ]
  },
  {
   "cell_type": "code",
   "execution_count": 72,
   "id": "451fda39",
   "metadata": {},
   "outputs": [
    {
     "name": "stdout",
     "output_type": "stream",
     "text": [
      "+------------+-----------+------------+-----------+-------+---------------+---------------------+\n",
      "|sepal_length|sepal_width|petal_length|petal_width|species|sepal_length_10|sepal_length_category|\n",
      "+------------+-----------+------------+-----------+-------+---------------+---------------------+\n",
      "|         5.1|        3.5|         1.4|        0.2| setosa|           15.1|               medium|\n",
      "|         4.9|        3.0|         1.4|        0.2| setosa|           14.9|                short|\n",
      "|         4.7|        3.2|         1.3|        0.2| setosa|           14.7|                short|\n",
      "|         4.6|        3.1|         1.5|        0.2| setosa|           14.6|                short|\n",
      "|         5.0|        3.6|         1.4|        0.2| setosa|           15.0|               medium|\n",
      "+------------+-----------+------------+-----------+-------+---------------+---------------------+\n",
      "only showing top 5 rows\n"
     ]
    }
   ],
   "source": [
    "df.withColumn('sepal_length_category', categorize_sepal_length_udf(df['sepal_length'])).show(5)"
   ]
  },
  {
   "cell_type": "code",
   "execution_count": 77,
   "id": "a2378018",
   "metadata": {},
   "outputs": [],
   "source": [
    "petal_length_category_udf = udf(lambda x: 'short' if x <1.4 else 'long', StringType())"
   ]
  },
  {
   "cell_type": "code",
   "execution_count": 78,
   "id": "24203e27",
   "metadata": {},
   "outputs": [
    {
     "name": "stdout",
     "output_type": "stream",
     "text": [
      "+------------+-----------+------------+-----------+-------+---------------+---------------------+\n",
      "|sepal_length|sepal_width|petal_length|petal_width|species|sepal_length_10|petal_length_category|\n",
      "+------------+-----------+------------+-----------+-------+---------------+---------------------+\n",
      "|         5.1|        3.5|         1.4|        0.2| setosa|           15.1|                 long|\n",
      "|         4.9|        3.0|         1.4|        0.2| setosa|           14.9|                 long|\n",
      "|         4.7|        3.2|         1.3|        0.2| setosa|           14.7|                short|\n",
      "|         4.6|        3.1|         1.5|        0.2| setosa|           14.6|                 long|\n",
      "|         5.0|        3.6|         1.4|        0.2| setosa|           15.0|                 long|\n",
      "+------------+-----------+------------+-----------+-------+---------------+---------------------+\n",
      "only showing top 5 rows\n"
     ]
    }
   ],
   "source": [
    "df.withColumn('petal_length_category', petal_length_category_udf(df['petal_length'])).show(5)"
   ]
  },
  {
   "cell_type": "markdown",
   "id": "bca30b43",
   "metadata": {},
   "source": [
    "## Pandas UDFs"
   ]
  },
  {
   "cell_type": "code",
   "execution_count": 86,
   "id": "daced88c",
   "metadata": {},
   "outputs": [],
   "source": [
    "from pyspark.sql.functions import pandas_udf\n",
    "from pyspark.sql.types import IntegerType\n",
    "from pyspark.sql.types import DoubleType"
   ]
  },
  {
   "cell_type": "code",
   "execution_count": 80,
   "id": "84e8267f",
   "metadata": {},
   "outputs": [],
   "source": [
    "def remaining_sepal_width(sepal_width):\n",
    "    sepal_width_remaining = (4.5 - sepal_width)\n",
    "    return sepal_width_remaining"
   ]
  },
  {
   "cell_type": "code",
   "execution_count": 83,
   "id": "5ad7c71d",
   "metadata": {},
   "outputs": [],
   "source": [
    "remaining_sepal_width_udf = pandas_udf(remaining_sepal_width, IntegerType())"
   ]
  },
  {
   "cell_type": "code",
   "execution_count": 84,
   "id": "526691d5",
   "metadata": {},
   "outputs": [
    {
     "name": "stdout",
     "output_type": "stream",
     "text": [
      "+------------+-----------+------------+-----------+-------+---------------+---------------------+\n",
      "|sepal_length|sepal_width|petal_length|petal_width|species|sepal_length_10|remaining_sepal_width|\n",
      "+------------+-----------+------------+-----------+-------+---------------+---------------------+\n",
      "|         5.1|        3.5|         1.4|        0.2| setosa|           15.1|                    1|\n",
      "|         4.9|        3.0|         1.4|        0.2| setosa|           14.9|                    1|\n",
      "|         4.7|        3.2|         1.3|        0.2| setosa|           14.7|                    1|\n",
      "|         4.6|        3.1|         1.5|        0.2| setosa|           14.6|                    1|\n",
      "|         5.0|        3.6|         1.4|        0.2| setosa|           15.0|                    0|\n",
      "|         5.4|        3.9|         1.7|        0.4| setosa|           15.4|                    0|\n",
      "|         4.6|        3.4|         1.4|        0.3| setosa|           14.6|                    1|\n",
      "|         5.0|        3.4|         1.5|        0.2| setosa|           15.0|                    1|\n",
      "|         4.4|        2.9|         1.4|        0.2| setosa|           14.4|                    1|\n",
      "|         4.9|        3.1|         1.5|        0.1| setosa|           14.9|                    1|\n",
      "|         5.4|        3.7|         1.5|        0.2| setosa|           15.4|                    0|\n",
      "|         4.8|        3.4|         1.6|        0.2| setosa|           14.8|                    1|\n",
      "|         4.8|        3.0|         1.4|        0.1| setosa|           14.8|                    1|\n",
      "|         4.3|        3.0|         1.1|        0.1| setosa|           14.3|                    1|\n",
      "|         5.8|        4.0|         1.2|        0.2| setosa|           15.8|                    0|\n",
      "|         5.7|        4.4|         1.5|        0.4| setosa|           15.7|                    0|\n",
      "|         5.4|        3.9|         1.3|        0.4| setosa|           15.4|                    0|\n",
      "|         5.1|        3.5|         1.4|        0.3| setosa|           15.1|                    1|\n",
      "|         5.7|        3.8|         1.7|        0.3| setosa|           15.7|                    0|\n",
      "|         5.1|        3.8|         1.5|        0.3| setosa|           15.1|                    0|\n",
      "+------------+-----------+------------+-----------+-------+---------------+---------------------+\n",
      "only showing top 20 rows\n"
     ]
    }
   ],
   "source": [
    "df.withColumn('remaining_sepal_width', remaining_sepal_width_udf(df['sepal_width'])).show()"
   ]
  },
  {
   "cell_type": "code",
   "execution_count": 85,
   "id": "dff06d15",
   "metadata": {},
   "outputs": [],
   "source": [
    "def petal_area_approximation(petal_length, petal_width):\n",
    "    x = petal_length * petal_width\n",
    "    return x"
   ]
  },
  {
   "cell_type": "code",
   "execution_count": 87,
   "id": "ae0c191b",
   "metadata": {},
   "outputs": [],
   "source": [
    "prod_udf = pandas_udf(petal_area_approximation, DoubleType())"
   ]
  },
  {
   "cell_type": "code",
   "execution_count": 88,
   "id": "9f72d57f",
   "metadata": {},
   "outputs": [
    {
     "name": "stdout",
     "output_type": "stream",
     "text": [
      "+------------+-----------+------------+-----------+-------+---------------+------------------------+\n",
      "|sepal_length|sepal_width|petal_length|petal_width|species|sepal_length_10|petal_area_approximation|\n",
      "+------------+-----------+------------+-----------+-------+---------------+------------------------+\n",
      "|         5.1|        3.5|         1.4|        0.2| setosa|           15.1|     0.27999999999999997|\n",
      "|         4.9|        3.0|         1.4|        0.2| setosa|           14.9|     0.27999999999999997|\n",
      "|         4.7|        3.2|         1.3|        0.2| setosa|           14.7|                    0.26|\n",
      "|         4.6|        3.1|         1.5|        0.2| setosa|           14.6|     0.30000000000000004|\n",
      "|         5.0|        3.6|         1.4|        0.2| setosa|           15.0|     0.27999999999999997|\n",
      "|         5.4|        3.9|         1.7|        0.4| setosa|           15.4|                    0.68|\n",
      "|         4.6|        3.4|         1.4|        0.3| setosa|           14.6|                    0.42|\n",
      "|         5.0|        3.4|         1.5|        0.2| setosa|           15.0|     0.30000000000000004|\n",
      "|         4.4|        2.9|         1.4|        0.2| setosa|           14.4|     0.27999999999999997|\n",
      "|         4.9|        3.1|         1.5|        0.1| setosa|           14.9|     0.15000000000000002|\n",
      "|         5.4|        3.7|         1.5|        0.2| setosa|           15.4|     0.30000000000000004|\n",
      "|         4.8|        3.4|         1.6|        0.2| setosa|           14.8|     0.32000000000000006|\n",
      "|         4.8|        3.0|         1.4|        0.1| setosa|           14.8|     0.13999999999999999|\n",
      "|         4.3|        3.0|         1.1|        0.1| setosa|           14.3|     0.11000000000000001|\n",
      "|         5.8|        4.0|         1.2|        0.2| setosa|           15.8|                    0.24|\n",
      "|         5.7|        4.4|         1.5|        0.4| setosa|           15.7|      0.6000000000000001|\n",
      "|         5.4|        3.9|         1.3|        0.4| setosa|           15.4|                    0.52|\n",
      "|         5.1|        3.5|         1.4|        0.3| setosa|           15.1|                    0.42|\n",
      "|         5.7|        3.8|         1.7|        0.3| setosa|           15.7|                    0.51|\n",
      "|         5.1|        3.8|         1.5|        0.3| setosa|           15.1|     0.44999999999999996|\n",
      "+------------+-----------+------------+-----------+-------+---------------+------------------------+\n",
      "only showing top 20 rows\n"
     ]
    }
   ],
   "source": [
    "df.withColumn('petal_area_approximation', prod_udf(df['petal_length'], df['petal_width'])).show()"
   ]
  },
  {
   "cell_type": "markdown",
   "id": "b271556a",
   "metadata": {},
   "source": [
    "# Data Manipulation and Cleaning"
   ]
  },
  {
   "cell_type": "code",
   "execution_count": 89,
   "id": "5b909329",
   "metadata": {},
   "outputs": [
    {
     "data": {
      "text/plain": [
       "150"
      ]
     },
     "execution_count": 89,
     "metadata": {},
     "output_type": "execute_result"
    }
   ],
   "source": [
    "df.count()"
   ]
  },
  {
   "cell_type": "code",
   "execution_count": 91,
   "id": "9d31fa12",
   "metadata": {},
   "outputs": [],
   "source": [
    "df = df.dropDuplicates()"
   ]
  },
  {
   "cell_type": "code",
   "execution_count": 92,
   "id": "03da27ab",
   "metadata": {},
   "outputs": [
    {
     "data": {
      "text/plain": [
       "149"
      ]
     },
     "execution_count": 92,
     "metadata": {},
     "output_type": "execute_result"
    }
   ],
   "source": [
    "df.count()"
   ]
  },
  {
   "cell_type": "code",
   "execution_count": 94,
   "id": "58554c04",
   "metadata": {},
   "outputs": [
    {
     "name": "stdout",
     "output_type": "stream",
     "text": [
      "+------------+-----------+------------+-----------+----------+\n",
      "|sepal_length|sepal_width|petal_length|petal_width|   species|\n",
      "+------------+-----------+------------+-----------+----------+\n",
      "|         5.9|        3.2|         4.8|        1.8|versicolor|\n",
      "|         7.2|        3.2|         6.0|        1.8| virginica|\n",
      "|         4.8|        3.4|         1.9|        0.2|    setosa|\n",
      "|         6.0|        2.2|         5.0|        1.5| virginica|\n",
      "|         6.9|        3.2|         5.7|        2.3| virginica|\n",
      "+------------+-----------+------------+-----------+----------+\n",
      "only showing top 5 rows\n"
     ]
    }
   ],
   "source": [
    "df_new = df.drop('sepal_length_10')\n",
    "df_new.show(5)"
   ]
  },
  {
   "cell_type": "code",
   "execution_count": 96,
   "id": "c981c408",
   "metadata": {},
   "outputs": [
    {
     "data": {
      "text/plain": [
       "'/home/jovyan'"
      ]
     },
     "execution_count": 96,
     "metadata": {},
     "output_type": "execute_result"
    }
   ],
   "source": [
    "pwd"
   ]
  },
  {
   "cell_type": "code",
   "execution_count": 99,
   "id": "2304a19c",
   "metadata": {},
   "outputs": [],
   "source": [
    "write_path = '/home/jovyan/df_csv'\n",
    "df.coalesce(1).write.format('csv').option('header', 'true').save(write_path)"
   ]
  },
  {
   "cell_type": "code",
   "execution_count": 104,
   "id": "055ed0d2",
   "metadata": {},
   "outputs": [
    {
     "name": "stdout",
     "output_type": "stream",
     "text": [
      "\u001b[0m\u001b[01;36mbin\u001b[0m@   \u001b[01;34mdev\u001b[0m/  \u001b[01;34mhome\u001b[0m/  \u001b[01;36mlib64\u001b[0m@  \u001b[01;34mmnt\u001b[0m/  \u001b[01;34mproc\u001b[0m/     \u001b[01;34mroot\u001b[0m/  \u001b[01;36msbin\u001b[0m@  \u001b[01;34msys\u001b[0m/  \u001b[01;34musr\u001b[0m/\n",
      "\u001b[01;34mboot\u001b[0m/  \u001b[01;34metc\u001b[0m/  \u001b[01;36mlib\u001b[0m@   \u001b[01;34mmedia\u001b[0m/  \u001b[01;34mopt\u001b[0m/  \u001b[34;42mproject\u001b[0m/  \u001b[01;34mrun\u001b[0m/   \u001b[01;34msrv\u001b[0m/   \u001b[30;42mtmp\u001b[0m/  \u001b[01;34mvar\u001b[0m/\n"
     ]
    }
   ],
   "source": [
    "ls ../.."
   ]
  },
  {
   "cell_type": "code",
   "execution_count": 105,
   "id": "3de7da72",
   "metadata": {},
   "outputs": [],
   "source": [
    "parquet_uri='/home/jovyan/work/df_parquet'\n",
    "df.write.format('parquet').save(parquet_uri)"
   ]
  }
 ],
 "metadata": {
  "kernelspec": {
   "display_name": "Python 3 (ipykernel)",
   "language": "python",
   "name": "python3"
  },
  "language_info": {
   "codemirror_mode": {
    "name": "ipython",
    "version": 3
   },
   "file_extension": ".py",
   "mimetype": "text/x-python",
   "name": "python",
   "nbconvert_exporter": "python",
   "pygments_lexer": "ipython3",
   "version": "3.13.7"
  }
 },
 "nbformat": 4,
 "nbformat_minor": 5
}
