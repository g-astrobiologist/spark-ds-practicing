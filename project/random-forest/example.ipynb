{
 "cells": [
  {
   "cell_type": "code",
   "execution_count": 1,
   "id": "889d2941",
   "metadata": {},
   "outputs": [
    {
     "name": "stdout",
     "output_type": "stream",
     "text": [
      "Loaded file: /tmp/Log_Reg_dataset.csv (exists=True)\n",
      "+-------------+----+-----------+--------+---------+-------+\n",
      "|rate_marriage| age|yrs_married|children|religious|affairs|\n",
      "+-------------+----+-----------+--------+---------+-------+\n",
      "|            5|32.0|        6.0|     1.0|        3|      0|\n",
      "|            4|22.0|        2.5|     0.0|        2|      0|\n",
      "|            3|32.0|        9.0|     3.0|        3|      1|\n",
      "|            3|27.0|       13.0|     3.0|        1|      1|\n",
      "|            4|22.0|        2.5|     0.0|        1|      1|\n",
      "+-------------+----+-----------+--------+---------+-------+\n",
      "only showing top 5 rows\n"
     ]
    }
   ],
   "source": [
    "from pyspark.sql import SparkSession\n",
    "import os\n",
    "import tempfile\n",
    "import urllib.request\n",
    "\n",
    "# Create Spark session\n",
    "spark = SparkSession.builder \\\n",
    "    .master(\"local[*]\") \\\n",
    "    .appName(\"random-forest\") \\\n",
    "    .getOrCreate()\n",
    "\n",
    "# Correct raw GitHub URL and safe local path (no leading slash in filename)\n",
    "url = \"https://raw.githubusercontent.com/Apress/machine-learning-with-pyspark/master/chapter_6_Random_Forests/affairs.csv\"\n",
    "local_path = os.path.join(tempfile.gettempdir(), \"Log_Reg_dataset.csv\")\n",
    "\n",
    "# Download dataset (overwrites if already present)\n",
    "urllib.request.urlretrieve(url, local_path)\n",
    "\n",
    "# Read with Spark\n",
    "df = spark.read.csv(local_path, header=True, inferSchema=True)\n",
    "\n",
    "# Quick sanity check\n",
    "print(f\"Loaded file: {local_path} (exists={os.path.exists(local_path)})\")\n",
    "df.show(5)"
   ]
  },
  {
   "cell_type": "code",
   "execution_count": 2,
   "id": "68cd6eb9",
   "metadata": {},
   "outputs": [
    {
     "name": "stdout",
     "output_type": "stream",
     "text": [
      "root\n",
      " |-- rate_marriage: integer (nullable = true)\n",
      " |-- age: double (nullable = true)\n",
      " |-- yrs_married: double (nullable = true)\n",
      " |-- children: double (nullable = true)\n",
      " |-- religious: integer (nullable = true)\n",
      " |-- affairs: integer (nullable = true)\n",
      "\n"
     ]
    }
   ],
   "source": [
    "df.printSchema()"
   ]
  },
  {
   "cell_type": "code",
   "execution_count": 3,
   "id": "d71ed383",
   "metadata": {},
   "outputs": [
    {
     "data": {
      "text/plain": [
       "(6366,\n",
       " ['rate_marriage', 'age', 'yrs_married', 'children', 'religious', 'affairs'])"
      ]
     },
     "execution_count": 3,
     "metadata": {},
     "output_type": "execute_result"
    }
   ],
   "source": [
    "df.count(), df.columns"
   ]
  },
  {
   "cell_type": "code",
   "execution_count": 4,
   "id": "ff0dad81",
   "metadata": {},
   "outputs": [
    {
     "name": "stdout",
     "output_type": "stream",
     "text": [
      "+-------+------------------+------------------+-----------------+------------------+------------------+------------------+\n",
      "|summary|     rate_marriage|               age|      yrs_married|          children|         religious|           affairs|\n",
      "+-------+------------------+------------------+-----------------+------------------+------------------+------------------+\n",
      "|  count|              6366|              6366|             6366|              6366|              6366|              6366|\n",
      "|   mean| 4.109644989004084|29.082862079798932| 9.00942507068803|1.3968740182218033|2.4261702796104303|0.3224945020420987|\n",
      "| stddev|0.9614295945655025| 6.847881883668817|7.280119972766412| 1.433470828560344|0.8783688402641785| 0.467467779921086|\n",
      "|    min|                 1|              17.5|              0.5|               0.0|                 1|                 0|\n",
      "|    max|                 5|              42.0|             23.0|               5.5|                 4|                 1|\n",
      "+-------+------------------+------------------+-----------------+------------------+------------------+------------------+\n",
      "\n"
     ]
    }
   ],
   "source": [
    "df.describe().show()"
   ]
  },
  {
   "cell_type": "code",
   "execution_count": 5,
   "id": "1c857489",
   "metadata": {},
   "outputs": [
    {
     "name": "stdout",
     "output_type": "stream",
     "text": [
      "+-------+-----+\n",
      "|affairs|count|\n",
      "+-------+-----+\n",
      "|      1| 2053|\n",
      "|      0| 4313|\n",
      "+-------+-----+\n",
      "\n"
     ]
    }
   ],
   "source": [
    "df.groupBy(\"affairs\").count().show()"
   ]
  },
  {
   "cell_type": "code",
   "execution_count": 7,
   "id": "b8e9e968",
   "metadata": {},
   "outputs": [
    {
     "name": "stdout",
     "output_type": "stream",
     "text": [
      "+-------------+-----+\n",
      "|rate_marriage|count|\n",
      "+-------------+-----+\n",
      "|            1|   99|\n",
      "|            2|  348|\n",
      "|            3|  993|\n",
      "|            4| 2242|\n",
      "|            5| 2684|\n",
      "+-------------+-----+\n",
      "\n"
     ]
    }
   ],
   "source": [
    "df.groupBy(\"rate_marriage\").count().sort(\"rate_marriage\").show()"
   ]
  },
  {
   "cell_type": "code",
   "execution_count": 8,
   "id": "303f4b83",
   "metadata": {},
   "outputs": [
    {
     "name": "stdout",
     "output_type": "stream",
     "text": [
      "+-------------+-------+-----+\n",
      "|rate_marriage|affairs|count|\n",
      "+-------------+-------+-----+\n",
      "|            1|      0|   25|\n",
      "|            1|      1|   74|\n",
      "|            2|      0|  127|\n",
      "|            2|      1|  221|\n",
      "|            3|      0|  446|\n",
      "|            3|      1|  547|\n",
      "|            4|      0| 1518|\n",
      "|            4|      1|  724|\n",
      "|            5|      0| 2197|\n",
      "|            5|      1|  487|\n",
      "+-------------+-------+-----+\n",
      "\n"
     ]
    }
   ],
   "source": [
    "df.groupBy('rate_marriage', 'affairs').count().sort('rate_marriage', 'affairs', 'count', ascending = True).show()"
   ]
  },
  {
   "cell_type": "code",
   "execution_count": 10,
   "id": "f56aab3e",
   "metadata": {},
   "outputs": [
    {
     "name": "stdout",
     "output_type": "stream",
     "text": [
      "+---------+-------+-----+\n",
      "|religious|affairs|count|\n",
      "+---------+-------+-----+\n",
      "|        1|      0|  613|\n",
      "|        1|      1|  408|\n",
      "|        2|      0| 1448|\n",
      "|        2|      1|  819|\n",
      "|        3|      0| 1715|\n",
      "|        3|      1|  707|\n",
      "|        4|      0|  537|\n",
      "|        4|      1|  119|\n",
      "+---------+-------+-----+\n",
      "\n"
     ]
    }
   ],
   "source": [
    "df.groupBy('religious', 'affairs').count().sort('religious', 'affairs', 'count', ascending = True).show()"
   ]
  },
  {
   "cell_type": "code",
   "execution_count": 11,
   "id": "fb4d6aa3",
   "metadata": {},
   "outputs": [
    {
     "name": "stdout",
     "output_type": "stream",
     "text": [
      "+--------+-------+-----+\n",
      "|children|affairs|count|\n",
      "+--------+-------+-----+\n",
      "|     0.0|      0| 1912|\n",
      "|     0.0|      1|  502|\n",
      "|     1.0|      0|  747|\n",
      "|     1.0|      1|  412|\n",
      "|     2.0|      0|  873|\n",
      "|     2.0|      1|  608|\n",
      "|     3.0|      0|  460|\n",
      "|     3.0|      1|  321|\n",
      "|     4.0|      0|  197|\n",
      "|     4.0|      1|  131|\n",
      "|     5.5|      0|  124|\n",
      "|     5.5|      1|   79|\n",
      "+--------+-------+-----+\n",
      "\n"
     ]
    }
   ],
   "source": [
    "df.groupBy('children', 'affairs').count().sort('children', 'affairs', 'count', ascending = True).show()"
   ]
  },
  {
   "cell_type": "code",
   "execution_count": 12,
   "id": "f72a8366",
   "metadata": {},
   "outputs": [
    {
     "name": "stdout",
     "output_type": "stream",
     "text": [
      "+-------+------------------+------------------+------------------+------------------+------------------+------------+\n",
      "|affairs|avg(rate_marriage)|          avg(age)|  avg(yrs_married)|     avg(children)|    avg(religious)|avg(affairs)|\n",
      "+-------+------------------+------------------+------------------+------------------+------------------+------------+\n",
      "|      1|3.6473453482708234|30.537018996590355|11.152459814905017|1.7289332683877252| 2.261568436434486|         1.0|\n",
      "|      0| 4.329700904242986| 28.39067934152562| 7.989334569904939|1.2388128912589844|2.5045212149316023|         0.0|\n",
      "+-------+------------------+------------------+------------------+------------------+------------------+------------+\n",
      "\n"
     ]
    }
   ],
   "source": [
    "df.groupBy(\"affairs\").mean().show()"
   ]
  },
  {
   "cell_type": "code",
   "execution_count": 13,
   "id": "8c4c71c3",
   "metadata": {},
   "outputs": [],
   "source": [
    "from pyspark.ml.feature import VectorAssembler"
   ]
  },
  {
   "cell_type": "code",
   "execution_count": 14,
   "id": "2be128f1",
   "metadata": {},
   "outputs": [
    {
     "name": "stdout",
     "output_type": "stream",
     "text": [
      "root\n",
      " |-- rate_marriage: integer (nullable = true)\n",
      " |-- age: double (nullable = true)\n",
      " |-- yrs_married: double (nullable = true)\n",
      " |-- children: double (nullable = true)\n",
      " |-- religious: integer (nullable = true)\n",
      " |-- affairs: integer (nullable = true)\n",
      " |-- features: vector (nullable = true)\n",
      "\n"
     ]
    }
   ],
   "source": [
    "df_assembler = VectorAssembler(\n",
    "    inputCols=['rate_marriage', 'age', 'yrs_married', 'children', 'religious'],\n",
    "    outputCol='features')\n",
    "\n",
    "df = df_assembler.transform(df)\n",
    "\n",
    "df.printSchema()"
   ]
  },
  {
   "cell_type": "code",
   "execution_count": 15,
   "id": "749616d3",
   "metadata": {},
   "outputs": [
    {
     "name": "stdout",
     "output_type": "stream",
     "text": [
      "+-----------------------+-------+\n",
      "|features               |affairs|\n",
      "+-----------------------+-------+\n",
      "|[5.0,32.0,6.0,1.0,3.0] |0      |\n",
      "|[4.0,22.0,2.5,0.0,2.0] |0      |\n",
      "|[3.0,32.0,9.0,3.0,3.0] |1      |\n",
      "|[3.0,27.0,13.0,3.0,1.0]|1      |\n",
      "|[4.0,22.0,2.5,0.0,1.0] |1      |\n",
      "+-----------------------+-------+\n",
      "only showing top 5 rows\n"
     ]
    }
   ],
   "source": [
    "df.select('features', 'affairs').show(5, truncate=False)"
   ]
  },
  {
   "cell_type": "code",
   "execution_count": 16,
   "id": "072e9284",
   "metadata": {},
   "outputs": [],
   "source": [
    "model_df = df.select('features', 'affairs')"
   ]
  },
  {
   "cell_type": "code",
   "execution_count": 17,
   "id": "046da7c7",
   "metadata": {},
   "outputs": [
    {
     "data": {
      "text/plain": [
       "(4840, 1526)"
      ]
     },
     "execution_count": 17,
     "metadata": {},
     "output_type": "execute_result"
    }
   ],
   "source": [
    "train_df, test_df = model_df.randomSplit([0.75, 0.25], seed=42)\n",
    "\n",
    "train_df.count(), test_df.count()"
   ]
  },
  {
   "cell_type": "code",
   "execution_count": 18,
   "id": "c7f71dec",
   "metadata": {},
   "outputs": [
    {
     "name": "stdout",
     "output_type": "stream",
     "text": [
      "+-------+-----+\n",
      "|affairs|count|\n",
      "+-------+-----+\n",
      "|      1| 1563|\n",
      "|      0| 3277|\n",
      "+-------+-----+\n",
      "\n",
      "+-------+-----+\n",
      "|affairs|count|\n",
      "+-------+-----+\n",
      "|      1|  490|\n",
      "|      0| 1036|\n",
      "+-------+-----+\n",
      "\n"
     ]
    },
    {
     "data": {
      "text/plain": [
       "(None, None)"
      ]
     },
     "execution_count": 18,
     "metadata": {},
     "output_type": "execute_result"
    }
   ],
   "source": [
    "train_df.groupBy('affairs').count().show(), test_df.groupBy('affairs').count().show()"
   ]
  },
  {
   "cell_type": "code",
   "execution_count": 19,
   "id": "248e5598",
   "metadata": {},
   "outputs": [],
   "source": [
    "from pyspark.ml.classification import RandomForestClassifier\n",
    "\n",
    "rf_classifier = RandomForestClassifier(labelCol='affairs', featuresCol='features', numTrees=50).fit(train_df)"
   ]
  },
  {
   "cell_type": "code",
   "execution_count": 21,
   "id": "52caf971",
   "metadata": {},
   "outputs": [
    {
     "name": "stdout",
     "output_type": "stream",
     "text": [
      "+--------------------+-------+--------------------+--------------------+----------+\n",
      "|            features|affairs|       rawPrediction|         probability|prediction|\n",
      "+--------------------+-------+--------------------+--------------------+----------+\n",
      "|[1.0,22.0,2.5,0.0...|      1|[17.8470485032684...|[0.35694097006536...|       1.0|\n",
      "|[1.0,22.0,2.5,1.0...|      0|[17.5449761077126...|[0.35089952215425...|       1.0|\n",
      "|[1.0,22.0,2.5,1.0...|      1|[17.5449761077126...|[0.35089952215425...|       1.0|\n",
      "|[1.0,22.0,2.5,1.0...|      0|[17.5295845745339...|[0.35059169149067...|       1.0|\n",
      "|[1.0,27.0,2.5,0.0...|      1|[16.5990985421340...|[0.33198197084268...|       1.0|\n",
      "|[1.0,27.0,6.0,1.0...|      0|[16.7102627078064...|[0.33420525415612...|       1.0|\n",
      "|[1.0,27.0,6.0,2.0...|      1|[16.5165405224833...|[0.33033081044966...|       1.0|\n",
      "|[1.0,27.0,13.0,2....|      1|[15.4242980475882...|[0.30848596095176...|       1.0|\n",
      "|[1.0,32.0,2.5,1.0...|      0|[23.1828828524280...|[0.46365765704856...|       1.0|\n",
      "|[1.0,32.0,13.0,0....|      1|[16.6333673948776...|[0.33266734789755...|       1.0|\n",
      "|[1.0,32.0,13.0,1....|      1|[15.9440519392765...|[0.31888103878553...|       1.0|\n",
      "|[1.0,32.0,13.0,2....|      1|[15.8877665323751...|[0.31775533064750...|       1.0|\n",
      "|[1.0,32.0,13.0,3....|      1|[15.6342173638732...|[0.31268434727746...|       1.0|\n",
      "|[1.0,32.0,16.5,2....|      1|[15.1294865757357...|[0.30258973151471...|       1.0|\n",
      "|[1.0,32.0,16.5,3....|      1|[15.2352386393260...|[0.30470477278652...|       1.0|\n",
      "|[1.0,32.0,16.5,3....|      1|[15.3829936332818...|[0.30765987266563...|       1.0|\n",
      "|[1.0,32.0,16.5,4....|      0|[16.3468616081533...|[0.32693723216306...|       1.0|\n",
      "|[1.0,32.0,16.5,5....|      0|[15.3952971854065...|[0.30790594370813...|       1.0|\n",
      "|[1.0,37.0,13.0,3....|      0|[17.6187026272604...|[0.35237405254520...|       1.0|\n",
      "|[1.0,37.0,16.5,3....|      1|[14.8490276796227...|[0.29698055359245...|       1.0|\n",
      "+--------------------+-------+--------------------+--------------------+----------+\n",
      "only showing top 20 rows\n"
     ]
    }
   ],
   "source": [
    "rf_predictions = rf_classifier.transform(test_df)\n",
    "\n",
    "rf_predictions.show()"
   ]
  },
  {
   "cell_type": "code",
   "execution_count": 23,
   "id": "d5e4f61f",
   "metadata": {},
   "outputs": [
    {
     "name": "stdout",
     "output_type": "stream",
     "text": [
      "+----------+-----+\n",
      "|prediction|count|\n",
      "+----------+-----+\n",
      "|       0.0| 1251|\n",
      "|       1.0|  275|\n",
      "+----------+-----+\n",
      "\n"
     ]
    }
   ],
   "source": [
    "rf_predictions.groupBy('prediction').count().show()"
   ]
  },
  {
   "cell_type": "code",
   "execution_count": 24,
   "id": "0a9fd397",
   "metadata": {},
   "outputs": [],
   "source": [
    "from pyspark.ml.evaluation import MulticlassClassificationEvaluator\n",
    "from pyspark.ml.evaluation import BinaryClassificationEvaluator"
   ]
  },
  {
   "cell_type": "code",
   "execution_count": 25,
   "id": "679dfab0",
   "metadata": {},
   "outputs": [
    {
     "name": "stdout",
     "output_type": "stream",
     "text": [
      "Random Forest Classifier Accuracy: 0.7149\n"
     ]
    }
   ],
   "source": [
    "rf_accuracy = MulticlassClassificationEvaluator(labelCol='affairs', predictionCol='prediction', metricName='accuracy').evaluate(rf_predictions)\n",
    "\n",
    "print(f\"Random Forest Classifier Accuracy: {rf_accuracy:.4f}\")"
   ]
  },
  {
   "cell_type": "code",
   "execution_count": 26,
   "id": "6c7e4886",
   "metadata": {},
   "outputs": [
    {
     "name": "stdout",
     "output_type": "stream",
     "text": [
      "Random Forest Classifier Precision: 0.6952\n"
     ]
    }
   ],
   "source": [
    "rf_precision = MulticlassClassificationEvaluator(labelCol='affairs', predictionCol='prediction', metricName='weightedPrecision').evaluate(rf_predictions)\n",
    "\n",
    "print(f\"Random Forest Classifier Precision: {rf_precision:.4f}\")"
   ]
  },
  {
   "cell_type": "code",
   "execution_count": 27,
   "id": "5ba4b3d1",
   "metadata": {},
   "outputs": [
    {
     "name": "stdout",
     "output_type": "stream",
     "text": [
      "Random Forest Classifier AUC: 0.7285\n"
     ]
    }
   ],
   "source": [
    "rf_auc = BinaryClassificationEvaluator(labelCol='affairs', rawPredictionCol='rawPrediction', metricName='areaUnderROC').evaluate(rf_predictions)\n",
    "\n",
    "print(f\"Random Forest Classifier AUC: {rf_auc:.4f}\")"
   ]
  },
  {
   "cell_type": "code",
   "execution_count": 28,
   "id": "efc61ca8",
   "metadata": {},
   "outputs": [
    {
     "data": {
      "text/plain": [
       "SparseVector(5, {0: 0.6236, 1: 0.0226, 2: 0.2315, 3: 0.0584, 4: 0.0638})"
      ]
     },
     "execution_count": 28,
     "metadata": {},
     "output_type": "execute_result"
    }
   ],
   "source": [
    "rf_classifier.featureImportances"
   ]
  },
  {
   "cell_type": "code",
   "execution_count": 30,
   "id": "be196b27",
   "metadata": {},
   "outputs": [
    {
     "data": {
      "text/plain": [
       "[{'name': 'rate_marriage', 'idx': 0},\n",
       " {'name': 'age', 'idx': 1},\n",
       " {'name': 'yrs_married', 'idx': 2},\n",
       " {'name': 'children', 'idx': 3},\n",
       " {'name': 'religious', 'idx': 4}]"
      ]
     },
     "execution_count": 30,
     "metadata": {},
     "output_type": "execute_result"
    }
   ],
   "source": [
    "df.schema[\"features\"].metadata[\"ml_attr\"][\"attrs\"]['numeric']"
   ]
  },
  {
   "cell_type": "code",
   "execution_count": 31,
   "id": "275347b0",
   "metadata": {},
   "outputs": [],
   "source": [
    "from pyspark.ml.classification import RandomForestClassificationModel\n",
    "\n",
    "rf_classifier.save(\"rf_classifier_model\")\n",
    "\n",
    "loaded_rf_classifier = RandomForestClassificationModel.load(\"rf_classifier_model\")"
   ]
  },
  {
   "cell_type": "code",
   "execution_count": 33,
   "id": "645b8022",
   "metadata": {},
   "outputs": [
    {
     "name": "stdout",
     "output_type": "stream",
     "text": [
      "+--------------------+-------+--------------------+--------------------+----------+\n",
      "|            features|affairs|       rawPrediction|         probability|prediction|\n",
      "+--------------------+-------+--------------------+--------------------+----------+\n",
      "|[1.0,22.0,2.5,0.0...|      1|[17.8470485032684...|[0.35694097006536...|       1.0|\n",
      "|[1.0,22.0,2.5,1.0...|      0|[17.5449761077126...|[0.35089952215425...|       1.0|\n",
      "|[1.0,22.0,2.5,1.0...|      1|[17.5449761077126...|[0.35089952215425...|       1.0|\n",
      "|[1.0,22.0,2.5,1.0...|      0|[17.5295845745339...|[0.35059169149067...|       1.0|\n",
      "|[1.0,27.0,2.5,0.0...|      1|[16.5990985421340...|[0.33198197084268...|       1.0|\n",
      "|[1.0,27.0,6.0,1.0...|      0|[16.7102627078064...|[0.33420525415612...|       1.0|\n",
      "|[1.0,27.0,6.0,2.0...|      1|[16.5165405224833...|[0.33033081044966...|       1.0|\n",
      "|[1.0,27.0,13.0,2....|      1|[15.4242980475882...|[0.30848596095176...|       1.0|\n",
      "|[1.0,32.0,2.5,1.0...|      0|[23.1828828524280...|[0.46365765704856...|       1.0|\n",
      "|[1.0,32.0,13.0,0....|      1|[16.6333673948776...|[0.33266734789755...|       1.0|\n",
      "|[1.0,32.0,13.0,1....|      1|[15.9440519392765...|[0.31888103878553...|       1.0|\n",
      "|[1.0,32.0,13.0,2....|      1|[15.8877665323751...|[0.31775533064750...|       1.0|\n",
      "|[1.0,32.0,13.0,3....|      1|[15.6342173638732...|[0.31268434727746...|       1.0|\n",
      "|[1.0,32.0,16.5,2....|      1|[15.1294865757357...|[0.30258973151471...|       1.0|\n",
      "|[1.0,32.0,16.5,3....|      1|[15.2352386393260...|[0.30470477278652...|       1.0|\n",
      "|[1.0,32.0,16.5,3....|      1|[15.3829936332818...|[0.30765987266563...|       1.0|\n",
      "|[1.0,32.0,16.5,4....|      0|[16.3468616081533...|[0.32693723216306...|       1.0|\n",
      "|[1.0,32.0,16.5,5....|      0|[15.3952971854065...|[0.30790594370813...|       1.0|\n",
      "|[1.0,37.0,13.0,3....|      0|[17.6187026272604...|[0.35237405254520...|       1.0|\n",
      "|[1.0,37.0,16.5,3....|      1|[14.8490276796227...|[0.29698055359245...|       1.0|\n",
      "+--------------------+-------+--------------------+--------------------+----------+\n",
      "only showing top 20 rows\n"
     ]
    }
   ],
   "source": [
    "new_rf_predictions = loaded_rf_classifier.transform(test_df)\n",
    "new_rf_predictions.show()"
   ]
  },
  {
   "cell_type": "code",
   "execution_count": 34,
   "id": "f26ea741",
   "metadata": {},
   "outputs": [
    {
     "data": {
      "image/png": "[encoded data removed]",
      "text/plain": [
       "<Figure size 800x600 with 1 Axes>"
      ]
     },
     "metadata": {},
     "output_type": "display_data"
    }
   ],
   "source": [
    "import pandas as pd\n",
    "from sklearn.metrics import roc_curve, auc\n",
    "\n",
    "import matplotlib.pyplot as plt\n",
    "\n",
    "# extract probability for the positive class and labels from the Spark DataFrame\n",
    "rows = new_rf_predictions.select(\"probability\", \"affairs\").rdd.map(lambda r: (float(r['probability'][1]), int(r['affairs']))).collect()\n",
    "pdf = pd.DataFrame(rows, columns=[\"prob\", \"label\"])\n",
    "\n",
    "# compute ROC curve and AUC\n",
    "fpr, tpr, _ = roc_curve(pdf[\"label\"], pdf[\"prob\"])\n",
    "roc_auc = auc(fpr, tpr)\n",
    "\n",
    "# plot\n",
    "plt.figure(figsize=(8, 6))\n",
    "plt.plot(fpr, tpr, color=\"darkorange\", lw=2, label=f\"ROC curve (AUC = {roc_auc:.4f})\")\n",
    "plt.plot([0, 1], [0, 1], color=\"navy\", lw=2, linestyle=\"--\", label=\"Chance\")\n",
    "plt.xlim([0.0, 1.0])\n",
    "plt.ylim([0.0, 1.05])\n",
    "plt.xlabel(\"False Positive Rate\")\n",
    "plt.ylabel(\"True Positive Rate\")\n",
    "plt.title(\"ROC Curve - Logistic Regression\")\n",
    "plt.legend(loc=\"lower right\")\n",
    "plt.grid(True)\n",
    "plt.show()"
   ]
  },
  {
   "cell_type": "code",
   "execution_count": 41,
   "id": "850fe724",
   "metadata": {},
   "outputs": [
    {
     "data": {
      "image/png": "[encoded data removed]",
      "text/plain": [
       "<Figure size 640x480 with 2 Axes>"
      ]
     },
     "metadata": {},
     "output_type": "display_data"
    }
   ],
   "source": [
    "import seaborn as sns\n",
    "from sklearn.metrics import confusion_matrix\n",
    "import numpy as np\n",
    "\n",
    "# get predictions and true labels from the Spark DataFrame\n",
    "preds_df = new_rf_predictions.select(\"prediction\", \"affairs\").toPandas()\n",
    "y_true = preds_df[\"affairs\"].astype(int)\n",
    "y_pred = preds_df[\"prediction\"].astype(int)\n",
    "\n",
    "# compute confusion matrix\n",
    "cm = confusion_matrix(y_true, y_pred)\n",
    "\n",
    "# plot raw counts and normalized matrix side-by-side\n",
    "\n",
    "sns.heatmap(cm, annot=True, fmt=\"d\", cmap=\"Blues\")\n",
    "\n",
    "plt.tight_layout()\n",
    "plt.show()"
   ]
  },
  {
   "cell_type": "code",
   "execution_count": null,
   "id": "46f0c93d",
   "metadata": {},
   "outputs": [],
   "source": []
  }
 ],
 "metadata": {
  "kernelspec": {
   "display_name": "Python 3 (ipykernel)",
   "language": "python",
   "name": "python3"
  },
  "language_info": {
   "codemirror_mode": {
    "name": "ipython",
    "version": 3
   },
   "file_extension": ".py",
   "mimetype": "text/x-python",
   "name": "python",
   "nbconvert_exporter": "python",
   "pygments_lexer": "ipython3",
   "version": "3.13.7"
  }
 },
 "nbformat": 4,
 "nbformat_minor": 5
}
